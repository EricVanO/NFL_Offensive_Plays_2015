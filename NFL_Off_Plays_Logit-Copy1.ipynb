{
 "cells": [
  {
   "cell_type": "code",
   "execution_count": 1,
   "metadata": {
    "collapsed": true
   },
   "outputs": [],
   "source": [
    "import statsmodels.api as sm\n",
    "import pylab as pl\n",
    "import numpy as np\n",
    "import MySQLdb as mdb\n",
    "import getpass"
   ]
  },
  {
   "cell_type": "code",
   "execution_count": 2,
   "metadata": {
    "collapsed": false
   },
   "outputs": [
    {
     "name": "stdout",
     "output_type": "stream",
     "text": [
      "Enter the database root password: ········\n"
     ]
    }
   ],
   "source": [
    "# Connect to the MySQL database containing the results of import_game_pbp_data.py\n",
    "rootpass = getpass.getpass('Enter the database root password: ')\n",
    "con = mdb.connect('localhost', 'root', rootpass, 'NFL_Offensive_Plays_2015')\n",
    "cur = con.cursor()"
   ]
  },
  {
   "cell_type": "code",
   "execution_count": 79,
   "metadata": {
    "collapsed": false,
    "scrolled": true
   },
   "outputs": [
    {
     "name": "stdout",
     "output_type": "stream",
     "text": [
      "Optimization terminated successfully.\n",
      "         Current function value: 0.591050\n",
      "         Iterations 6\n",
      "Optimization terminated successfully.\n",
      "         Current function value: 0.654667\n",
      "         Iterations 6\n",
      "Optimization terminated successfully.\n",
      "         Current function value: 0.573735\n",
      "         Iterations 7\n",
      "Optimization terminated successfully.\n",
      "         Current function value: 0.611577\n",
      "         Iterations 8\n",
      "Optimization terminated successfully.\n",
      "         Current function value: 0.575147\n",
      "         Iterations 10\n",
      "Optimization terminated successfully.\n",
      "         Current function value: 0.582194\n",
      "         Iterations 7\n",
      "Optimization terminated successfully.\n",
      "         Current function value: 0.606127\n",
      "         Iterations 8\n",
      "Optimization terminated successfully.\n",
      "         Current function value: 0.599642\n",
      "         Iterations 7\n",
      "Optimization terminated successfully.\n",
      "         Current function value: 0.601416\n",
      "         Iterations 8\n",
      "Optimization terminated successfully.\n",
      "         Current function value: 0.601603\n",
      "         Iterations 6\n",
      "Optimization terminated successfully.\n",
      "         Current function value: 0.556362\n",
      "         Iterations 7\n",
      "Optimization terminated successfully.\n",
      "         Current function value: 0.563216\n",
      "         Iterations 8\n",
      "Optimization terminated successfully.\n",
      "         Current function value: 0.570971\n",
      "         Iterations 8\n",
      "Optimization terminated successfully.\n",
      "         Current function value: 0.636627\n",
      "         Iterations 6\n",
      "Optimization terminated successfully.\n",
      "         Current function value: 0.620863\n",
      "         Iterations 8\n",
      "Optimization terminated successfully.\n",
      "         Current function value: 0.580733\n",
      "         Iterations 7\n",
      "Optimization terminated successfully.\n",
      "         Current function value: 0.575791\n",
      "         Iterations 8\n",
      "Optimization terminated successfully.\n",
      "         Current function value: 0.588648\n",
      "         Iterations 6\n",
      "Optimization terminated successfully.\n",
      "         Current function value: 0.640976\n",
      "         Iterations 6\n",
      "Optimization terminated successfully.\n",
      "         Current function value: 0.635179\n",
      "         Iterations 5\n",
      "Optimization terminated successfully.\n",
      "         Current function value: 0.579782\n",
      "         Iterations 8\n",
      "Optimization terminated successfully.\n",
      "         Current function value: 0.612232\n",
      "         Iterations 8\n",
      "Optimization terminated successfully.\n",
      "         Current function value: 0.574943\n",
      "         Iterations 8\n",
      "Optimization terminated successfully.\n",
      "         Current function value: 0.629588\n",
      "         Iterations 6\n",
      "Optimization terminated successfully.\n",
      "         Current function value: 0.608784\n",
      "         Iterations 7\n",
      "Optimization terminated successfully.\n",
      "         Current function value: 0.592237\n",
      "         Iterations 9\n",
      "Optimization terminated successfully.\n",
      "         Current function value: 0.637833\n",
      "         Iterations 6\n",
      "Optimization terminated successfully.\n",
      "         Current function value: 0.628672\n",
      "         Iterations 6\n",
      "Optimization terminated successfully.\n",
      "         Current function value: 0.568783\n",
      "         Iterations 8\n",
      "Optimization terminated successfully.\n",
      "         Current function value: 0.567647\n",
      "         Iterations 7\n",
      "Optimization terminated successfully.\n",
      "         Current function value: 0.612073\n",
      "         Iterations 8\n",
      "Optimization terminated successfully.\n",
      "         Current function value: 0.660044\n",
      "         Iterations 7\n"
     ]
    }
   ],
   "source": [
    "# This cell queries the database and performs logistic regression on the offensive play data for each team. The regression model\n",
    "# is trained on the first 8 weeks of data, and tries to predict runs or passes for the remaining 9 weeks of data.\n",
    "\n",
    "# A list of the teams. Teams that switched offensive coordinators during the 2015 season: Detroit Lions (Oct 26, after Week 7), \n",
    "# Indianapolis Colts (Nov 3, after Week 8), St. Louis Rams (Dec. 7, after Week 13)\n",
    "teams = ['Baltimore Ravens', 'Cincinnati Bengals', 'Cleveland Browns', 'Pittsburgh Steelers', 'Houston Texans', 'Indianapolis Colts', 'Jacksonville Jaguars', 'Tennessee Titans', 'Buffalo Bills', 'Miami Dolphins', 'New England Patriots', 'New York Jets', 'Denver Broncos', 'Kansas City Chiefs', 'Oakland Raiders', 'San Diego Chargers', 'Chicago Bears', 'Detroit Lions', 'Green Bay Packers', 'Minnesota Vikings', 'Atlanta Falcons', 'Carolina Panthers', 'New Orleans Saints', 'Tampa Bay Buccaneers', 'Dallas Cowboys', 'New York Giants', 'Philadelphia Eagles', 'Washington Redskins', 'Arizona Cardinals', 'St. Louis Rams', 'San Francisco 49ers', 'Seattle Seahawks']\n",
    "#Below, I initialize the lists of parameters I'll use for later analysis.\n",
    "logitList = []\n",
    "fitResult = []\n",
    "predIsTrue = [[],[],[],[],[],[],[],[],[],[],[],[],[],[],[],[],[],[],[],[],[],[],[],[],[],[],[],[],[],[],[],[]]\n",
    "fracCorrect = []\n",
    "numPass = []\n",
    "fracPass = []\n",
    "fracTruePass = []\n",
    "fracFalsePass = []\n",
    "fracTrueRun = []\n",
    "fracFalseRun = []\n",
    "fracUncertain = []\n",
    "fracUncertainOrSureRun = []\n",
    "F1Pass = []\n",
    "F1Run = []\n",
    "# A list of the total yards (and points) for each team, in the order corresponding to that of teams.\n",
    "totYds = [5749,5728,5311,6327,5564,5142,5581,4988,5775,5307,5991,5925,5688,5299,5336,5949,5514,5547,5353,5139,5990,5871,6461,6014,5361,5956,5830,5661,6533,4761,4860,6058]\n",
    "pts = [328,419,278,423,339,333,376,299,379,310,465,387,355,405,359,320,335,358,368,365,339,500,408,342,275,420,377,388,489,280,238,423]\n",
    "\n",
    "# For each team, I will perform logistic regression on the offensive plays data from the first half of the season to try to \n",
    "# predict whether plays from the second half of the season will be a run or a pass.\n",
    "j = 0\n",
    "while j < len(teams):\n",
    "    #The first step is to get the data from the first half of the season from the MySQL database.\n",
    "    cur.execute(\"SELECT `Time Remaining`, Down, `To Go`, `Field Position`, `Score Differential` FROM `\" + teams[j] + \"` WHERE Week < 9\")\n",
    "    firstHalfData = cur.fetchall()\n",
    "    cur.execute(\"SELECT IsPass FROM `\" + teams[j] + \"` WHERE Week < 9\")\n",
    "    firstHalfOut = cur.fetchall()\n",
    "    \n",
    "    # I call the inputs from the training set  firstHalfIn. Each row in firstHalfIn includes the bias term, the down,\n",
    "    # the distance, the field position (a number between 0 and 50; it doesn't differentiate between sides of the field), and \n",
    "    # (score differential) divided by (time remaining in seconds plus .01). I expect the probability of a pass to change \n",
    "    # monotonically with each non-bias input: The higher the down, the higher the distance, the farther from either goalline, and\n",
    "    # the lower the ratio between score differential and time remaining, the higher I expect the probability of a pass to be. The \n",
    "    # .01 is in the denominator of the last input to avoid singularities on the rare occasions that a defensive penalty allows for\n",
    "    # an offensive play with no time remaining on the clock.\n",
    "    firstHalfIn = []\n",
    "    for play in firstHalfData:\n",
    "        firstHalfIn.append([1, int(play[1]), int(play[2]), int(min(play[3], 100-play[3])), float(play[4])/(float(play[0])+.01)])\n",
    "\n",
    "    # I save the results of the fit result in a list.\n",
    "    logitList.append(sm.Logit(firstHalfOut, firstHalfIn))\n",
    "    fitResult.append(logitList[j].fit())\n",
    "\n",
    "    #Now, I get the data from the second half of the season (weeks 9-17)\n",
    "    cur.execute(\"SELECT `Time Remaining`, Down, `To Go`, `Field Position`, `Score Differential` FROM `\" + teams[j] + \"` WHERE Week > 8\")\n",
    "    secondHalfData = cur.fetchall()\n",
    "    cur.execute(\"SELECT IsPass FROM `\" + teams[j] + \"` WHERE Week > 8\")\n",
    "    secondHalfOut = cur.fetchall()\n",
    "    secondHalfIn = []\n",
    "    for play in secondHalfData:\n",
    "        secondHalfIn.append([1, int(play[1]), int(play[2]), int(min(play[3], 100-play[3])), float(play[4])/(float(play[0])+.01)])\n",
    "\n",
    "    # I now need to use the results of the logistic regression to make predictions about the second half of the season. Dotting\n",
    "    # the second half data into the fitting parameters gives a list of sigmoid funtion arguments. Applying the sigmoid function \n",
    "    # to them gives a list of pass probabilites. Rounding these probabilities gives the prediction of a run or pass.\n",
    "    secondHalfPred = []\n",
    "    sigmoids = 1/(1+np.exp(-np.dot(secondHalfIn, fitResult[j].params)))\n",
    "    for sigmoid in sigmoids:\n",
    "        secondHalfPred.append(round(sigmoid))\n",
    "\n",
    "    # The following while loop fills in the list predIsTrue[j], with ones indicating correct predictions, and zeros indicating\n",
    "    # incorrect predictions. It also counts the number of true pass, true run, false pass, and false run predictions there are.\n",
    "    # It also counts plays where the model is uncertain--defined as plays where the probability of a pass is between 40% and \n",
    "    # 50%--and plays where the probability of a pass is less than 60%. This allows for more analysis later on.\n",
    "    \n",
    "    i = 0\n",
    "    tempTruePass = 0\n",
    "    tempTrueRun = 0\n",
    "    tempFalsePass = 0\n",
    "    tempFalseRun = 0\n",
    "    tempUncertain = 0\n",
    "    tempUncertainOrSureRun = 0\n",
    "    while i < len(secondHalfPred):\n",
    "        if sigmoids[i] < .6:\n",
    "            tempUncertainOrSureRun += 1\n",
    "            if sigmoids[i] > .4:\n",
    "                tempUncertain += 1\n",
    "        if secondHalfPred[i] == 1 and secondHalfOut[i][0] == 1:\n",
    "            predIsTrue[j].append(1)\n",
    "            tempTruePass += 1\n",
    "        elif secondHalfPred[i] == 0 and secondHalfOut[i][0] == 0:\n",
    "            predIsTrue[j].append(1)\n",
    "            tempTrueRun += 1\n",
    "        elif secondHalfPred[i] == 1 and secondHalfOut[i][0] == 0:\n",
    "            predIsTrue[j].append(0)\n",
    "            tempFalsePass += 1\n",
    "        elif secondHalfPred[i] == 0 and secondHalfOut[i][0] == 1:\n",
    "            predIsTrue[j].append(0)\n",
    "            tempFalseRun += 1\n",
    "        i += 1\n",
    "    \n",
    "    # We now calculate the fraction of second half plays that were correct predictions, correct pass predictions, correct run \n",
    "    # predictions, false pass predictions, false run predictions, uncertain predictions, and predictions that are uncertain or \n",
    "    # sure of a run.\n",
    "    fracCorrect.append(float(sum(predIsTrue[j]))/float(len(predIsTrue[j])))\n",
    "    fracTruePass.append(float(tempTruePass)/float(len(predIsTrue[j])))\n",
    "    fracTrueRun.append(float(tempTrueRun)/float(len(predIsTrue[j])))\n",
    "    fracFalsePass.append(float(tempFalsePass)/float(len(predIsTrue[j])))\n",
    "    fracFalseRun.append(float(tempFalseRun)/float(len(predIsTrue[j])))\n",
    "    fracUncertain.append(float(tempUncertain)/float(len(predIsTrue[j])))\n",
    "    fracUncertainOrSureRun.append(float(tempUncertainOrSureRun)/float(len(predIsTrue[j])))\n",
    "    \n",
    "    # The next few lines find the total number of passing plays, as well as the fraction of pass plays in the second half of the\n",
    "    # season.\n",
    "    tempNumPass = 0\n",
    "    for play in secondHalfOut:\n",
    "        tempNumPass += play[0]\n",
    "    numPass.append(tempNumPass)\n",
    "    fracPass.append(float(numPass[j])/float(len(secondHalfOut)))\n",
    "    \n",
    "    j += 1"
   ]
  },
  {
   "cell_type": "code",
   "execution_count": 44,
   "metadata": {
    "collapsed": false,
    "scrolled": true
   },
   "outputs": [
    {
     "data": {
      "text/plain": [
       "[0.6789667896678967,\n",
       " 0.68,\n",
       " 0.6535433070866141,\n",
       " 0.55893536121673,\n",
       " 0.6311787072243346,\n",
       " 0.6360078277886497,\n",
       " 0.6703296703296703,\n",
       " 0.6610486891385767,\n",
       " 0.6648550724637681,\n",
       " 0.6338797814207651,\n",
       " 0.6303972366148531,\n",
       " 0.6766256590509666,\n",
       " 0.6454388984509466,\n",
       " 0.5803571428571429,\n",
       " 0.6289752650176679,\n",
       " 0.6679389312977099,\n",
       " 0.6696588868940754,\n",
       " 0.6257309941520468,\n",
       " 0.5953125,\n",
       " 0.7102803738317757,\n",
       " 0.6750972762645915,\n",
       " 0.6473594548551959,\n",
       " 0.6844106463878327,\n",
       " 0.6433566433566433,\n",
       " 0.6819047619047619,\n",
       " 0.6383763837638377,\n",
       " 0.5958132045088567,\n",
       " 0.5959780621572212,\n",
       " 0.6400778210116731,\n",
       " 0.7038461538461539,\n",
       " 0.658008658008658,\n",
       " 0.6227897838899804]"
      ]
     },
     "execution_count": 44,
     "metadata": {},
     "output_type": "execute_result"
    }
   ],
   "source": [
    "# A list of the fraction of plays the model got correct for each team.\n",
    "fracCorrect"
   ]
  },
  {
   "cell_type": "code",
   "execution_count": 8,
   "metadata": {
    "collapsed": false,
    "scrolled": true
   },
   "outputs": [
    {
     "data": {
      "text/plain": [
       "[0.6568265682656826,\n",
       " 0.5290909090909091,\n",
       " 0.6259842519685039,\n",
       " 0.6615969581749049,\n",
       " 0.5437262357414449,\n",
       " 0.6203522504892368,\n",
       " 0.6703296703296703,\n",
       " 0.5936329588014981,\n",
       " 0.4927536231884058,\n",
       " 0.6284153005464481,\n",
       " 0.6044905008635578,\n",
       " 0.6028119507908611,\n",
       " 0.5972461273666093,\n",
       " 0.5200892857142857,\n",
       " 0.6183745583038869,\n",
       " 0.6297709923664122,\n",
       " 0.5224416517055656,\n",
       " 0.6101364522417154,\n",
       " 0.6140625,\n",
       " 0.5158878504672897,\n",
       " 0.6186770428015564,\n",
       " 0.4991482112436116,\n",
       " 0.6026615969581749,\n",
       " 0.5804195804195804,\n",
       " 0.5866666666666667,\n",
       " 0.5940959409594095,\n",
       " 0.5668276972624798,\n",
       " 0.5850091407678245,\n",
       " 0.5953307392996109,\n",
       " 0.551923076923077,\n",
       " 0.6385281385281385,\n",
       " 0.49901768172888017]"
      ]
     },
     "execution_count": 8,
     "metadata": {},
     "output_type": "execute_result"
    }
   ],
   "source": [
    "# The fraction of plays that were passes for each team.\n",
    "fracPass"
   ]
  },
  {
   "cell_type": "code",
   "execution_count": 63,
   "metadata": {
    "collapsed": false,
    "scrolled": true
   },
   "outputs": [
    {
     "data": {
      "text/plain": [
       "[0.48523985239852396,\n",
       " 0.649090909090909,\n",
       " 0.4015748031496063,\n",
       " 0.3669201520912547,\n",
       " 0.44106463878326996,\n",
       " 0.48140900195694714,\n",
       " 0.47802197802197804,\n",
       " 0.41198501872659177,\n",
       " 0.4963768115942029,\n",
       " 0.21311475409836064,\n",
       " 0.10535405872193437,\n",
       " 0.4182776801405975,\n",
       " 0.3270223752151463,\n",
       " 0.5513392857142857,\n",
       " 0.3568904593639576,\n",
       " 0.4312977099236641,\n",
       " 0.3087971274685817,\n",
       " 0.4502923976608187,\n",
       " 0.5078125,\n",
       " 0.5626168224299065,\n",
       " 0.3949416342412451,\n",
       " 0.3577512776831346,\n",
       " 0.4296577946768061,\n",
       " 0.27972027972027974,\n",
       " 0.3980952380952381,\n",
       " 0.3929889298892989,\n",
       " 0.5442834138486312,\n",
       " 0.4954296160877514,\n",
       " 0.37937743190661477,\n",
       " 0.24807692307692308,\n",
       " 0.4588744588744589,\n",
       " 0.5913555992141454]"
      ]
     },
     "execution_count": 63,
     "metadata": {},
     "output_type": "execute_result"
    }
   ],
   "source": [
    "# The fraction of plays where the model was uncertain for each team. There is a surprising amount of variance here.\n",
    "fracUncertain"
   ]
  },
  {
   "cell_type": "code",
   "execution_count": 127,
   "metadata": {
    "collapsed": false,
    "scrolled": true
   },
   "outputs": [
    {
     "data": {
      "text/plain": [
       "[0.022140221402214055,\n",
       " 0.150909090909091,\n",
       " 0.027559055118110187,\n",
       " -0.1026615969581749,\n",
       " 0.0874524714828897,\n",
       " 0.015655577299412915,\n",
       " 0.0,\n",
       " 0.0674157303370786,\n",
       " 0.17210144927536225,\n",
       " 0.005464480874316946,\n",
       " 0.025906735751295318,\n",
       " 0.07381370826010547,\n",
       " 0.04819277108433728,\n",
       " 0.060267857142857206,\n",
       " 0.010600706713780994,\n",
       " 0.03816793893129766,\n",
       " 0.14721723518850982,\n",
       " 0.015594541910331383,\n",
       " -0.018749999999999933,\n",
       " 0.19439252336448598,\n",
       " 0.05642023346303504,\n",
       " 0.14821124361158428,\n",
       " 0.08174904942965777,\n",
       " 0.06293706293706292,\n",
       " 0.09523809523809523,\n",
       " 0.04428044280442811,\n",
       " 0.02898550724637683,\n",
       " 0.010968921389396646,\n",
       " 0.04474708171206221,\n",
       " 0.15192307692307694,\n",
       " 0.019480519480519543,\n",
       " 0.12377210216110024]"
      ]
     },
     "execution_count": 127,
     "metadata": {},
     "output_type": "execute_result"
    }
   ],
   "source": [
    "# Here, I construct a list called difference. Each element of difference is equal to the fraction of plays the model got correct\n",
    "# and the fraction of passing plays.\n",
    "difference = []\n",
    "i = 0\n",
    "while i < len(fracCorrect):\n",
    "    difference.append(fracCorrect[i] - fracPass[i])\n",
    "    i += 1\n",
    "difference"
   ]
  },
  {
   "cell_type": "code",
   "execution_count": 128,
   "metadata": {
    "collapsed": false
   },
   "outputs": [
    {
     "name": "stdout",
     "output_type": "stream",
     "text": [
      "Pittsburgh Steelers\n",
      "Jacksonville Jaguars\n",
      "Green Bay Packers\n"
     ]
    }
   ],
   "source": [
    "# Here, I find out for which teams fracCorrect - fracPass is nonpositive. These cases are significant, because for these teams \n",
    "# it is more accurate to guess pass on every play than to use this model. There are three teams for which this is true: the \n",
    "# Pittsburgh Steelers, the Jacksonville Jaguars, and the Green Bay Packers. Surprisingly, none of these teams switched offensive \n",
    "# coordinators mid-season, which is what I would have expected. For the Steelers, it makes sense: due to a mixture of suspensions\n",
    "# and injuries, at different points of the season they did not have access to their #1 runningback, wide receiver, and \n",
    "# quarterback. This means that playcalling varied from game to game much more than it did for most teams. The Jaguars also had\n",
    "# injuries to several wide receivers and running backs, which perhaps affected their playcalling throughout the season as well.\n",
    "# The same is not true for the Packers, although their best wide receiver was out the whole season due to an injury during the \n",
    "# preseason. Their offense did struggle early in the season, but largely recovered by the end of the season. Perhaps their \n",
    "# play calls early on were different from those later.\n",
    "i = 0\n",
    "while i < len(difference):\n",
    "    if difference[i] <= 0:\n",
    "        print teams[i]\n",
    "    i += 1"
   ]
  },
  {
   "cell_type": "code",
   "execution_count": 129,
   "metadata": {
    "collapsed": false
   },
   "outputs": [
    {
     "name": "stdout",
     "output_type": "stream",
     "text": [
      "Cincinnati Bengals\n",
      "Buffalo Bills\n",
      "Chicago Bears\n",
      "Minnesota Vikings\n",
      "Carolina Panthers\n",
      "St. Louis Rams\n",
      "Seattle Seahawks\n"
     ]
    }
   ],
   "source": [
    "# Here, I find out for which teams our model does at least 10 percentage points better than guessing pass on every play. I \n",
    "# expected the teams on this list to have poor offenses during 2015, since it indicates that they were predictable. Some of them \n",
    "# were dismal; However, this list also includes the Carolina Panthers, who had arguably the best offense that season. Perhaps \n",
    "# the Panthers' players were able to execute particularly well, overcoming the predictability.\n",
    "i = 0\n",
    "while i < len(difference):\n",
    "    if difference[i] >= .1:\n",
    "        print teams[i]\n",
    "    i += 1"
   ]
  },
  {
   "cell_type": "code",
   "execution_count": 53,
   "metadata": {
    "collapsed": false
   },
   "outputs": [
    {
     "data": {
      "text/plain": [
       "<matplotlib.text.Text at 0xcd08f98>"
      ]
     },
     "execution_count": 53,
     "metadata": {},
     "output_type": "execute_result"
    }
   ],
   "source": [
    "# In this cell and those below, I try to find correlations between different measures of predictability and offensive success.\n",
    "# They are often correlated in the way one would expect (predictabile offenses usually did worse), but none of the correlations\n",
    "# were statistically significant with a 95% confidence interval. Perhaps, if I included data from multiple seasons, I could find\n",
    "# statistically significant results.\n",
    "\n",
    "linfitCorrect = sm.OLS(totYds, sm.add_constant(fracCorrect))\n",
    "linfitCorrectresult = linfitCorrect.fit()\n",
    "xvalsCorrect = [.55, .72]\n",
    "yvalsCorrect = [linfitCorrectresult.params[1]*xvalsCorrect[0] + linfitCorrectresult.params[0], linfitCorrectresult.params[1]*xvalsCorrect[1] + linfitCorrectresult.params[0]]\n",
    "plot1 = pl.plot(fracCorrect,totYds,'gx', xvalsCorrect, yvalsCorrect)\n",
    "pl.ylabel('Total Yards')\n",
    "pl.xlabel('Fraction of Correct Predictions')"
   ]
  },
  {
   "cell_type": "code",
   "execution_count": 54,
   "metadata": {
    "collapsed": false
   },
   "outputs": [],
   "source": [
    "pl.show(plot1)"
   ]
  },
  {
   "cell_type": "code",
   "execution_count": 60,
   "metadata": {
    "collapsed": false
   },
   "outputs": [],
   "source": [
    "linfitdiff = sm.OLS(totYds, sm.add_constant(difference))\n",
    "linfitdiffresult = linfitdiff.fit()\n",
    "xvalsdiff = [-.04, .14]\n",
    "yvalsdiff = [linfitdiffresult.params[1]*xvalsdiff[0] + linfitdiffresult.params[0], linfitdiffresult.params[1]*xvalsdiff[1] + linfitdiffresult.params[0]]\n",
    "plotdiff = pl.plot(difference, totYds, 'gx', xvalsdiff, yvalsdiff)"
   ]
  },
  {
   "cell_type": "code",
   "execution_count": 61,
   "metadata": {
    "collapsed": true
   },
   "outputs": [],
   "source": [
    "pl.show(plotdiff)"
   ]
  },
  {
   "cell_type": "code",
   "execution_count": 73,
   "metadata": {
    "collapsed": true
   },
   "outputs": [],
   "source": [
    "OLSUncertain = sm.OLS(pts, sm.add_constant(fracUncertain))\n",
    "fitUncertain = OLSUncertain.fit()\n",
    "xvalsUncertain = [.1, .7]\n",
    "yvalsUncertain = [fitUncertain.params[1]*xvalsUncertain[0] + fitUncertain.params[0], fitUncertain.params[1]*xvalsUncertain[1] + fitUncertain.params[0]]\n",
    "plotUncertain = pl.plot(fracUncertain, pts, 'gx', xvalsUncertain, yvalsUncertain)"
   ]
  },
  {
   "cell_type": "code",
   "execution_count": 74,
   "metadata": {
    "collapsed": true
   },
   "outputs": [],
   "source": [
    "pl.show(plotUncertain)"
   ]
  },
  {
   "cell_type": "code",
   "execution_count": 75,
   "metadata": {
    "collapsed": false
   },
   "outputs": [
    {
     "data": {
      "text/html": [
       "<table class=\"simpletable\">\n",
       "<caption>OLS Regression Results</caption>\n",
       "<tr>\n",
       "  <th>Dep. Variable:</th>            <td>y</td>        <th>  R-squared:         </th> <td>   0.003</td>\n",
       "</tr>\n",
       "<tr>\n",
       "  <th>Model:</th>                   <td>OLS</td>       <th>  Adj. R-squared:    </th> <td>  -0.030</td>\n",
       "</tr>\n",
       "<tr>\n",
       "  <th>Method:</th>             <td>Least Squares</td>  <th>  F-statistic:       </th> <td> 0.09067</td>\n",
       "</tr>\n",
       "<tr>\n",
       "  <th>Date:</th>             <td>Fri, 27 Jan 2017</td> <th>  Prob (F-statistic):</th>  <td> 0.765</td> \n",
       "</tr>\n",
       "<tr>\n",
       "  <th>Time:</th>                 <td>21:37:00</td>     <th>  Log-Likelihood:    </th> <td> -176.35</td>\n",
       "</tr>\n",
       "<tr>\n",
       "  <th>No. Observations:</th>      <td>    32</td>      <th>  AIC:               </th> <td>   356.7</td>\n",
       "</tr>\n",
       "<tr>\n",
       "  <th>Df Residuals:</th>          <td>    30</td>      <th>  BIC:               </th> <td>   359.6</td>\n",
       "</tr>\n",
       "<tr>\n",
       "  <th>Df Model:</th>              <td>     1</td>      <th>                     </th>     <td> </td>   \n",
       "</tr>\n",
       "<tr>\n",
       "  <th>Covariance Type:</th>      <td>nonrobust</td>    <th>                     </th>     <td> </td>   \n",
       "</tr>\n",
       "</table>\n",
       "<table class=\"simpletable\">\n",
       "<tr>\n",
       "    <td></td>       <th>coef</th>     <th>std err</th>      <th>t</th>      <th>P>|t|</th> <th>[95.0% Conf. Int.]</th> \n",
       "</tr>\n",
       "<tr>\n",
       "  <th>const</th> <td>  352.5868</td> <td>   42.647</td> <td>    8.267</td> <td> 0.000</td> <td>  265.489   439.685</td>\n",
       "</tr>\n",
       "<tr>\n",
       "  <th>x1</th>    <td>   29.6101</td> <td>   98.334</td> <td>    0.301</td> <td> 0.765</td> <td> -171.215   230.435</td>\n",
       "</tr>\n",
       "</table>\n",
       "<table class=\"simpletable\">\n",
       "<tr>\n",
       "  <th>Omnibus:</th>       <td> 0.879</td> <th>  Durbin-Watson:     </th> <td>   2.326</td>\n",
       "</tr>\n",
       "<tr>\n",
       "  <th>Prob(Omnibus):</th> <td> 0.644</td> <th>  Jarque-Bera (JB):  </th> <td>   0.446</td>\n",
       "</tr>\n",
       "<tr>\n",
       "  <th>Skew:</th>          <td> 0.289</td> <th>  Prob(JB):          </th> <td>   0.800</td>\n",
       "</tr>\n",
       "<tr>\n",
       "  <th>Kurtosis:</th>      <td> 3.028</td> <th>  Cond. No.          </th> <td>    10.6</td>\n",
       "</tr>\n",
       "</table>"
      ],
      "text/plain": [
       "<class 'statsmodels.iolib.summary.Summary'>\n",
       "\"\"\"\n",
       "                            OLS Regression Results                            \n",
       "==============================================================================\n",
       "Dep. Variable:                      y   R-squared:                       0.003\n",
       "Model:                            OLS   Adj. R-squared:                 -0.030\n",
       "Method:                 Least Squares   F-statistic:                   0.09067\n",
       "Date:                Fri, 27 Jan 2017   Prob (F-statistic):              0.765\n",
       "Time:                        21:37:00   Log-Likelihood:                -176.35\n",
       "No. Observations:                  32   AIC:                             356.7\n",
       "Df Residuals:                      30   BIC:                             359.6\n",
       "Df Model:                           1                                         \n",
       "Covariance Type:            nonrobust                                         \n",
       "==============================================================================\n",
       "                 coef    std err          t      P>|t|      [95.0% Conf. Int.]\n",
       "------------------------------------------------------------------------------\n",
       "const        352.5868     42.647      8.267      0.000       265.489   439.685\n",
       "x1            29.6101     98.334      0.301      0.765      -171.215   230.435\n",
       "==============================================================================\n",
       "Omnibus:                        0.879   Durbin-Watson:                   2.326\n",
       "Prob(Omnibus):                  0.644   Jarque-Bera (JB):                0.446\n",
       "Skew:                           0.289   Prob(JB):                        0.800\n",
       "Kurtosis:                       3.028   Cond. No.                         10.6\n",
       "==============================================================================\n",
       "\n",
       "Warnings:\n",
       "[1] Standard Errors assume that the covariance matrix of the errors is correctly specified.\n",
       "\"\"\""
      ]
     },
     "execution_count": 75,
     "metadata": {},
     "output_type": "execute_result"
    }
   ],
   "source": [
    "fitUncertain.summary()"
   ]
  },
  {
   "cell_type": "code",
   "execution_count": 86,
   "metadata": {
    "collapsed": false
   },
   "outputs": [],
   "source": [
    "OLSUncertainOrSureRun = sm.OLS(pts, sm.add_constant(fracUncertainOrSureRun))\n",
    "fitUncertainOrSureRun = OLSUncertainOrSureRun.fit()\n",
    "xvalsUncertainOrSureRun = [.1, .9]\n",
    "yvalsUncertainOrSureRun = [fitUncertainOrSureRun.params[1]*xvalsUncertainOrSureRun[0] + fitUncertainOrSureRun.params[0], fitUncertainOrSureRun.params[1]*xvalsUncertainOrSureRun[1] + fitUncertainOrSureRun.params[0]]\n",
    "plotUncertainOrSureRun = pl.plot(fracUncertainOrSureRun, pts, 'gx', xvalsUncertainOrSureRun, yvalsUncertainOrSureRun)"
   ]
  },
  {
   "cell_type": "code",
   "execution_count": 87,
   "metadata": {
    "collapsed": true
   },
   "outputs": [],
   "source": [
    "pl.show(plotUncertainOrSureRun)"
   ]
  },
  {
   "cell_type": "code",
   "execution_count": 85,
   "metadata": {
    "collapsed": false
   },
   "outputs": [
    {
     "data": {
      "text/html": [
       "<table class=\"simpletable\">\n",
       "<caption>OLS Regression Results</caption>\n",
       "<tr>\n",
       "  <th>Dep. Variable:</th>            <td>y</td>        <th>  R-squared:         </th> <td>   0.030</td>\n",
       "</tr>\n",
       "<tr>\n",
       "  <th>Model:</th>                   <td>OLS</td>       <th>  Adj. R-squared:    </th> <td>  -0.003</td>\n",
       "</tr>\n",
       "<tr>\n",
       "  <th>Method:</th>             <td>Least Squares</td>  <th>  F-statistic:       </th> <td>  0.9173</td>\n",
       "</tr>\n",
       "<tr>\n",
       "  <th>Date:</th>             <td>Fri, 27 Jan 2017</td> <th>  Prob (F-statistic):</th>  <td> 0.346</td> \n",
       "</tr>\n",
       "<tr>\n",
       "  <th>Time:</th>                 <td>21:43:02</td>     <th>  Log-Likelihood:    </th> <td> -175.91</td>\n",
       "</tr>\n",
       "<tr>\n",
       "  <th>No. Observations:</th>      <td>    32</td>      <th>  AIC:               </th> <td>   355.8</td>\n",
       "</tr>\n",
       "<tr>\n",
       "  <th>Df Residuals:</th>          <td>    30</td>      <th>  BIC:               </th> <td>   358.8</td>\n",
       "</tr>\n",
       "<tr>\n",
       "  <th>Df Model:</th>              <td>     1</td>      <th>                     </th>     <td> </td>   \n",
       "</tr>\n",
       "<tr>\n",
       "  <th>Covariance Type:</th>      <td>nonrobust</td>    <th>                     </th>     <td> </td>   \n",
       "</tr>\n",
       "</table>\n",
       "<table class=\"simpletable\">\n",
       "<tr>\n",
       "    <td></td>       <th>coef</th>     <th>std err</th>      <th>t</th>      <th>P>|t|</th> <th>[95.0% Conf. Int.]</th> \n",
       "</tr>\n",
       "<tr>\n",
       "  <th>const</th> <td>  323.2772</td> <td>   44.878</td> <td>    7.203</td> <td> 0.000</td> <td>  231.623   414.931</td>\n",
       "</tr>\n",
       "<tr>\n",
       "  <th>x1</th>    <td>   76.8888</td> <td>   80.282</td> <td>    0.958</td> <td> 0.346</td> <td>  -87.069   240.847</td>\n",
       "</tr>\n",
       "</table>\n",
       "<table class=\"simpletable\">\n",
       "<tr>\n",
       "  <th>Omnibus:</th>       <td> 0.833</td> <th>  Durbin-Watson:     </th> <td>   2.198</td>\n",
       "</tr>\n",
       "<tr>\n",
       "  <th>Prob(Omnibus):</th> <td> 0.659</td> <th>  Jarque-Bera (JB):  </th> <td>   0.376</td>\n",
       "</tr>\n",
       "<tr>\n",
       "  <th>Skew:</th>          <td> 0.264</td> <th>  Prob(JB):          </th> <td>   0.829</td>\n",
       "</tr>\n",
       "<tr>\n",
       "  <th>Kurtosis:</th>      <td> 3.061</td> <th>  Cond. No.          </th> <td>    9.67</td>\n",
       "</tr>\n",
       "</table>"
      ],
      "text/plain": [
       "<class 'statsmodels.iolib.summary.Summary'>\n",
       "\"\"\"\n",
       "                            OLS Regression Results                            \n",
       "==============================================================================\n",
       "Dep. Variable:                      y   R-squared:                       0.030\n",
       "Model:                            OLS   Adj. R-squared:                 -0.003\n",
       "Method:                 Least Squares   F-statistic:                    0.9173\n",
       "Date:                Fri, 27 Jan 2017   Prob (F-statistic):              0.346\n",
       "Time:                        21:43:02   Log-Likelihood:                -175.91\n",
       "No. Observations:                  32   AIC:                             355.8\n",
       "Df Residuals:                      30   BIC:                             358.8\n",
       "Df Model:                           1                                         \n",
       "Covariance Type:            nonrobust                                         \n",
       "==============================================================================\n",
       "                 coef    std err          t      P>|t|      [95.0% Conf. Int.]\n",
       "------------------------------------------------------------------------------\n",
       "const        323.2772     44.878      7.203      0.000       231.623   414.931\n",
       "x1            76.8888     80.282      0.958      0.346       -87.069   240.847\n",
       "==============================================================================\n",
       "Omnibus:                        0.833   Durbin-Watson:                   2.198\n",
       "Prob(Omnibus):                  0.659   Jarque-Bera (JB):                0.376\n",
       "Skew:                           0.264   Prob(JB):                        0.829\n",
       "Kurtosis:                       3.061   Cond. No.                         9.67\n",
       "==============================================================================\n",
       "\n",
       "Warnings:\n",
       "[1] Standard Errors assume that the covariance matrix of the errors is correctly specified.\n",
       "\"\"\""
      ]
     },
     "execution_count": 85,
     "metadata": {},
     "output_type": "execute_result"
    }
   ],
   "source": [
    "fitUncertainOrSureRun.summary()"
   ]
  },
  {
   "cell_type": "code",
   "execution_count": 123,
   "metadata": {
    "collapsed": true
   },
   "outputs": [],
   "source": [
    "OLSUncertainOrSureRunYds = sm.OLS(totYds, sm.add_constant(fracUncertainOrSureRun))\n",
    "fitUncertainOrSureRunYds = OLSUncertainOrSureRunYds.fit()\n",
    "xvalsUncertainOrSureRunYds = [.1, .9]\n",
    "yvalsUncertainOrSureRunYds = [fitUncertainOrSureRunYds.params[1]*xvalsUncertainOrSureRunYds[0] + fitUncertainOrSureRunYds.params[0], fitUncertainOrSureRunYds.params[1]*xvalsUncertainOrSureRunYds[1] + fitUncertainOrSureRunYds.params[0]]\n",
    "plotUncertainOrSureRunYds = pl.plot(fracUncertainOrSureRun, totYds, 'gx', xvalsUncertainOrSureRunYds, yvalsUncertainOrSureRunYds)"
   ]
  },
  {
   "cell_type": "code",
   "execution_count": 124,
   "metadata": {
    "collapsed": true
   },
   "outputs": [],
   "source": [
    "pl.show(plotUncertainOrSureRunYds)"
   ]
  },
  {
   "cell_type": "code",
   "execution_count": 120,
   "metadata": {
    "collapsed": false
   },
   "outputs": [
    {
     "data": {
      "text/html": [
       "<table class=\"simpletable\">\n",
       "<caption>OLS Regression Results</caption>\n",
       "<tr>\n",
       "  <th>Dep. Variable:</th>            <td>y</td>        <th>  R-squared:         </th> <td>   0.013</td>\n",
       "</tr>\n",
       "<tr>\n",
       "  <th>Model:</th>                   <td>OLS</td>       <th>  Adj. R-squared:    </th> <td>  -0.020</td>\n",
       "</tr>\n",
       "<tr>\n",
       "  <th>Method:</th>             <td>Least Squares</td>  <th>  F-statistic:       </th> <td>  0.3894</td>\n",
       "</tr>\n",
       "<tr>\n",
       "  <th>Date:</th>             <td>Fri, 27 Jan 2017</td> <th>  Prob (F-statistic):</th>  <td> 0.537</td> \n",
       "</tr>\n",
       "<tr>\n",
       "  <th>Time:</th>                 <td>22:35:33</td>     <th>  Log-Likelihood:    </th> <td> -239.02</td>\n",
       "</tr>\n",
       "<tr>\n",
       "  <th>No. Observations:</th>      <td>    32</td>      <th>  AIC:               </th> <td>   482.0</td>\n",
       "</tr>\n",
       "<tr>\n",
       "  <th>Df Residuals:</th>          <td>    30</td>      <th>  BIC:               </th> <td>   485.0</td>\n",
       "</tr>\n",
       "<tr>\n",
       "  <th>Df Model:</th>              <td>     1</td>      <th>                     </th>     <td> </td>   \n",
       "</tr>\n",
       "<tr>\n",
       "  <th>Covariance Type:</th>      <td>nonrobust</td>    <th>                     </th>     <td> </td>   \n",
       "</tr>\n",
       "</table>\n",
       "<table class=\"simpletable\">\n",
       "<tr>\n",
       "    <td></td>       <th>coef</th>     <th>std err</th>      <th>t</th>      <th>P>|t|</th> <th>[95.0% Conf. Int.]</th> \n",
       "</tr>\n",
       "<tr>\n",
       "  <th>const</th> <td> 5447.4263</td> <td>  322.511</td> <td>   16.891</td> <td> 0.000</td> <td> 4788.771  6106.082</td>\n",
       "</tr>\n",
       "<tr>\n",
       "  <th>x1</th>    <td>  360.0099</td> <td>  576.936</td> <td>    0.624</td> <td> 0.537</td> <td> -818.250  1538.270</td>\n",
       "</tr>\n",
       "</table>\n",
       "<table class=\"simpletable\">\n",
       "<tr>\n",
       "  <th>Omnibus:</th>       <td> 0.011</td> <th>  Durbin-Watson:     </th> <td>   2.061</td>\n",
       "</tr>\n",
       "<tr>\n",
       "  <th>Prob(Omnibus):</th> <td> 0.994</td> <th>  Jarque-Bera (JB):  </th> <td>   0.176</td>\n",
       "</tr>\n",
       "<tr>\n",
       "  <th>Skew:</th>          <td>-0.031</td> <th>  Prob(JB):          </th> <td>   0.916</td>\n",
       "</tr>\n",
       "<tr>\n",
       "  <th>Kurtosis:</th>      <td> 2.642</td> <th>  Cond. No.          </th> <td>    9.67</td>\n",
       "</tr>\n",
       "</table>"
      ],
      "text/plain": [
       "<class 'statsmodels.iolib.summary.Summary'>\n",
       "\"\"\"\n",
       "                            OLS Regression Results                            \n",
       "==============================================================================\n",
       "Dep. Variable:                      y   R-squared:                       0.013\n",
       "Model:                            OLS   Adj. R-squared:                 -0.020\n",
       "Method:                 Least Squares   F-statistic:                    0.3894\n",
       "Date:                Fri, 27 Jan 2017   Prob (F-statistic):              0.537\n",
       "Time:                        22:35:33   Log-Likelihood:                -239.02\n",
       "No. Observations:                  32   AIC:                             482.0\n",
       "Df Residuals:                      30   BIC:                             485.0\n",
       "Df Model:                           1                                         \n",
       "Covariance Type:            nonrobust                                         \n",
       "==============================================================================\n",
       "                 coef    std err          t      P>|t|      [95.0% Conf. Int.]\n",
       "------------------------------------------------------------------------------\n",
       "const       5447.4263    322.511     16.891      0.000      4788.771  6106.082\n",
       "x1           360.0099    576.936      0.624      0.537      -818.250  1538.270\n",
       "==============================================================================\n",
       "Omnibus:                        0.011   Durbin-Watson:                   2.061\n",
       "Prob(Omnibus):                  0.994   Jarque-Bera (JB):                0.176\n",
       "Skew:                          -0.031   Prob(JB):                        0.916\n",
       "Kurtosis:                       2.642   Cond. No.                         9.67\n",
       "==============================================================================\n",
       "\n",
       "Warnings:\n",
       "[1] Standard Errors assume that the covariance matrix of the errors is correctly specified.\n",
       "\"\"\""
      ]
     },
     "execution_count": 120,
     "metadata": {},
     "output_type": "execute_result"
    }
   ],
   "source": [
    "fitUncertainOrSureRunYds.summary()"
   ]
  },
  {
   "cell_type": "code",
   "execution_count": null,
   "metadata": {
    "collapsed": true
   },
   "outputs": [],
   "source": []
  }
 ],
 "metadata": {
  "kernelspec": {
   "display_name": "Python 2",
   "language": "python",
   "name": "python2"
  },
  "language_info": {
   "codemirror_mode": {
    "name": "ipython",
    "version": 2
   },
   "file_extension": ".py",
   "mimetype": "text/x-python",
   "name": "python",
   "nbconvert_exporter": "python",
   "pygments_lexer": "ipython2",
   "version": "2.7.12"
  }
 },
 "nbformat": 4,
 "nbformat_minor": 0
}
