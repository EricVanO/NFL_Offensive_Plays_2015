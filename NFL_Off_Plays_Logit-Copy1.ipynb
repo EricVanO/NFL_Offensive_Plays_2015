{
 "cells": [
  {
   "cell_type": "code",
   "execution_count": 1,
   "metadata": {
    "collapsed": true
   },
   "outputs": [],
   "source": [
    "import statsmodels.api as sm\n",
    "import pylab as pl\n",
    "import numpy as np\n",
    "import MySQLdb as mdb\n",
    "import getpass"
   ]
  },
  {
   "cell_type": "code",
   "execution_count": 2,
   "metadata": {
    "collapsed": false
   },
   "outputs": [
    {
     "name": "stdout",
     "output_type": "stream",
     "text": [
      "Enter the database root password: ········\n"
     ]
    }
   ],
   "source": [
    "# Connect to the MySQL database containing the results of import_game_pbp_data.py\n",
    "rootpass = getpass.getpass('Enter the database root password: ')\n",
    "con = mdb.connect('localhost', 'root', rootpass, 'NFL_Offensive_Plays_2015')\n",
    "cur = con.cursor()"
   ]
  },
  {
   "cell_type": "code",
   "execution_count": 79,
   "metadata": {
    "collapsed": false
   },
   "outputs": [
    {
     "name": "stdout",
     "output_type": "stream",
     "text": [
      "Optimization terminated successfully.\n",
      "         Current function value: 0.591050\n",
      "         Iterations 6\n",
      "Optimization terminated successfully.\n",
      "         Current function value: 0.654667\n",
      "         Iterations 6\n",
      "Optimization terminated successfully.\n",
      "         Current function value: 0.573735\n",
      "         Iterations 7\n",
      "Optimization terminated successfully.\n",
      "         Current function value: 0.611577\n",
      "         Iterations 8\n",
      "Optimization terminated successfully.\n",
      "         Current function value: 0.575147\n",
      "         Iterations 10\n",
      "Optimization terminated successfully.\n",
      "         Current function value: 0.582194\n",
      "         Iterations 7\n",
      "Optimization terminated successfully.\n",
      "         Current function value: 0.606127\n",
      "         Iterations 8\n",
      "Optimization terminated successfully.\n",
      "         Current function value: 0.599642\n",
      "         Iterations 7\n",
      "Optimization terminated successfully.\n",
      "         Current function value: 0.601416\n",
      "         Iterations 8\n",
      "Optimization terminated successfully.\n",
      "         Current function value: 0.601603\n",
      "         Iterations 6\n",
      "Optimization terminated successfully.\n",
      "         Current function value: 0.556362\n",
      "         Iterations 7\n",
      "Optimization terminated successfully.\n",
      "         Current function value: 0.563216\n",
      "         Iterations 8\n",
      "Optimization terminated successfully.\n",
      "         Current function value: 0.570971\n",
      "         Iterations 8\n",
      "Optimization terminated successfully.\n",
      "         Current function value: 0.636627\n",
      "         Iterations 6\n",
      "Optimization terminated successfully.\n",
      "         Current function value: 0.620863\n",
      "         Iterations 8\n",
      "Optimization terminated successfully.\n",
      "         Current function value: 0.580733\n",
      "         Iterations 7\n",
      "Optimization terminated successfully.\n",
      "         Current function value: 0.575791\n",
      "         Iterations 8\n",
      "Optimization terminated successfully.\n",
      "         Current function value: 0.588648\n",
      "         Iterations 6\n",
      "Optimization terminated successfully.\n",
      "         Current function value: 0.640976\n",
      "         Iterations 6\n",
      "Optimization terminated successfully.\n",
      "         Current function value: 0.635179\n",
      "         Iterations 5\n",
      "Optimization terminated successfully.\n",
      "         Current function value: 0.579782\n",
      "         Iterations 8\n",
      "Optimization terminated successfully.\n",
      "         Current function value: 0.612232\n",
      "         Iterations 8\n",
      "Optimization terminated successfully.\n",
      "         Current function value: 0.574943\n",
      "         Iterations 8\n",
      "Optimization terminated successfully.\n",
      "         Current function value: 0.629588\n",
      "         Iterations 6\n",
      "Optimization terminated successfully.\n",
      "         Current function value: 0.608784\n",
      "         Iterations 7\n",
      "Optimization terminated successfully.\n",
      "         Current function value: 0.592237\n",
      "         Iterations 9\n",
      "Optimization terminated successfully.\n",
      "         Current function value: 0.637833\n",
      "         Iterations 6\n",
      "Optimization terminated successfully.\n",
      "         Current function value: 0.628672\n",
      "         Iterations 6\n",
      "Optimization terminated successfully.\n",
      "         Current function value: 0.568783\n",
      "         Iterations 8\n",
      "Optimization terminated successfully.\n",
      "         Current function value: 0.567647\n",
      "         Iterations 7\n",
      "Optimization terminated successfully.\n",
      "         Current function value: 0.612073\n",
      "         Iterations 8\n",
      "Optimization terminated successfully.\n",
      "         Current function value: 0.660044\n",
      "         Iterations 7\n"
     ]
    }
   ],
   "source": [
    "# A list of the teams. Teams that switched offensive coordinators during the 2015 season: Detroit Lions (Oct 26, after Week 7), Indianapolis Colts (Nov 3, after Week 8), St. Louis Rams (Dec. 7, after Week 13)\n",
    "teams = ['Baltimore Ravens', 'Cincinnati Bengals', 'Cleveland Browns', 'Pittsburgh Steelers', 'Houston Texans', 'Indianapolis Colts', 'Jacksonville Jaguars', 'Tennessee Titans', 'Buffalo Bills', 'Miami Dolphins', 'New England Patriots', 'New York Jets', 'Denver Broncos', 'Kansas City Chiefs', 'Oakland Raiders', 'San Diego Chargers', 'Chicago Bears', 'Detroit Lions', 'Green Bay Packers', 'Minnesota Vikings', 'Atlanta Falcons', 'Carolina Panthers', 'New Orleans Saints', 'Tampa Bay Buccaneers', 'Dallas Cowboys', 'New York Giants', 'Philadelphia Eagles', 'Washington Redskins', 'Arizona Cardinals', 'St. Louis Rams', 'San Francisco 49ers', 'Seattle Seahawks']\n",
    "#Below, I initialize the lists of parameters I'll use for later analysis.\n",
    "logitList = []\n",
    "fitResult = []\n",
    "#summaryList = []\n",
    "predIsTrue = [[],[],[],[],[],[],[],[],[],[],[],[],[],[],[],[],[],[],[],[],[],[],[],[],[],[],[],[],[],[],[],[]]\n",
    "fracCorrect = []\n",
    "numPass = []\n",
    "fracPass = []\n",
    "fracTruePass = []\n",
    "fracFalsePass = []\n",
    "fracTrueRun = []\n",
    "fracFalseRun = []\n",
    "fracUncertain = []\n",
    "fracUncertainOrSureRun = []\n",
    "F1Pass = []\n",
    "F1Run = []\n",
    "# A list of the total yards for each team, in the order corresponding to that of teams.\n",
    "totYds = [5749,5728,5311,6327,5564,5142,5581,4988,5775,5307,5991,5925,5688,5299,5336,5949,5514,5547,5353,5139,5990,5871,6461,6014,5361,5956,5830,5661,6533,4761,4860,6058]\n",
    "pts = [328,419,278,423,339,333,376,299,379,310,465,387,355,405,359,320,335,358,368,365,339,500,408,342,275,420,377,388,489,280,238,423]\n",
    "# For each team, I will perform logistic regression on the offensive plays data from the first half of the season to try to \n",
    "# predict whether plays from the second half of the season will be a run or a pass.\n",
    "j = 0\n",
    "while j < len(teams):\n",
    "    #The first step is to get the data from the first half of the season from the MySQL database.\n",
    "    cur.execute(\"SELECT `Time Remaining`, Down, `To Go`, `Field Position`, `Score Differential` FROM `\" + teams[j] + \"` WHERE Week < 9\")\n",
    "    firstHalfData = cur.fetchall()\n",
    "    cur.execute(\"SELECT IsPass FROM `\" + teams[j] + \"` WHERE Week < 9\")\n",
    "    firstHalfOut = cur.fetchall()\n",
    "    \n",
    "    # I call the inputs from the training set  firstHalfIn. Each row in firstHalfIn includes the bias term, the down,\n",
    "    # the distance, the field position (a number between 0 and 50; it doesn't differentiate between sides of the field), and \n",
    "    # (score differential) divided by (time remaining in seconds plus .01). I expect the probability of a pass to change \n",
    "    # monotonically with each non-bias input: The higher the down, the higher the distance, the farther from either goalline, and\n",
    "    # the lower the ratio between score differential and time remaining, the higher I expect the probability of a pass to be. The \n",
    "    # .01 is in the denominator of the last input to avoid singularities on the rare occasions that a defensive penalty allows for\n",
    "    # an offensive play with no time remaining on the clock.\n",
    "    firstHalfIn = []\n",
    "    for play in firstHalfData:\n",
    "        firstHalfIn.append([1, int(play[1]), int(play[2]), int(min(play[3], 100-play[3])), float(play[4])/(float(play[0])+.01)])\n",
    "\n",
    "    # I save the results of the fit result in a list.\n",
    "    logitList.append(sm.Logit(firstHalfOut, firstHalfIn))\n",
    "    fitResult.append(logitList[j].fit())\n",
    "    #summaryList.append(result[j].summary())\n",
    "\n",
    "    #Now, I get the data from the second half of the season (weeks 9-17)\n",
    "    cur.execute(\"SELECT `Time Remaining`, Down, `To Go`, `Field Position`, `Score Differential` FROM `\" + teams[j] + \"` WHERE Week > 8\")\n",
    "    secondHalfData = cur.fetchall()\n",
    "    cur.execute(\"SELECT IsPass FROM `\" + teams[j] + \"` WHERE Week > 8\")\n",
    "    secondHalfOut = cur.fetchall()\n",
    "    secondHalfIn = []\n",
    "    for play in secondHalfData:\n",
    "        secondHalfIn.append([1, int(play[1]), int(play[2]), int(min(play[3], 100-play[3])), float(play[4])/(float(play[0])+.01)])\n",
    "\n",
    "    # I now need to use the results of the logistic regression to make predictions about the second half of the season. Dotting\n",
    "    # the second half data into the fitting parameters gives a list of sigmoid funtion arguments. Applying the sigmoid function \n",
    "    # to them gives a list of pass probabilites. Rounding these probabilities gives the prediction of a run or pass.\n",
    "    secondHalfPred = []\n",
    "    sigmoids = 1/(1+np.exp(-np.dot(secondHalfIn, fitResult[j].params)))\n",
    "    for sigmoid in sigmoids:\n",
    "        secondHalfPred.append(round(sigmoid))\n",
    "\n",
    "    # The following while loop fills in the list predIsTrue[j], with ones indicating correct predictions, and zeros indicating\n",
    "    # incorrect predictions. It also counts the number of true pass, true run, false pass, and false run predictions there are.\n",
    "    i = 0\n",
    "    tempTruePass = 0\n",
    "    tempTrueRun = 0\n",
    "    tempFalsePass = 0\n",
    "    tempFalseRun = 0\n",
    "    tempUncertain = 0\n",
    "    tempUncertainOrSureRun = 0\n",
    "    while i < len(secondHalfPred):\n",
    "        if sigmoids[i] < .6:\n",
    "            tempUncertainOrSureRun += 1\n",
    "            if sigmoids[i] > .4:\n",
    "                tempUncertain += 1\n",
    "        if secondHalfPred[i] == 1 and secondHalfOut[i][0] == 1:\n",
    "            predIsTrue[j].append(1)\n",
    "            tempTruePass += 1\n",
    "        elif secondHalfPred[i] == 0 and secondHalfOut[i][0] == 0:\n",
    "            predIsTrue[j].append(1)\n",
    "            tempTrueRun += 1\n",
    "        elif secondHalfPred[i] == 1 and secondHalfOut[i][0] == 0:\n",
    "            predIsTrue[j].append(0)\n",
    "            tempFalsePass += 1\n",
    "        elif secondHalfPred[i] == 0 and secondHalfOut[i][0] == 1:\n",
    "            predIsTrue[j].append(0)\n",
    "            tempFalseRun += 1\n",
    "        i += 1\n",
    "    \n",
    "    # We now calculate the fraction of second half plays that were correct predictions, correct pass predictions, correct run \n",
    "    # predictions, false pass predictions, and false run predictions.\n",
    "    fracCorrect.append(float(sum(predIsTrue[j]))/float(len(predIsTrue[j])))\n",
    "    fracTruePass.append(float(tempTruePass)/float(len(predIsTrue[j])))\n",
    "    fracTrueRun.append(float(tempTrueRun)/float(len(predIsTrue[j])))\n",
    "    fracFalsePass.append(float(tempFalsePass)/float(len(predIsTrue[j])))\n",
    "    fracFalseRun.append(float(tempFalseRun)/float(len(predIsTrue[j])))\n",
    "    fracUncertain.append(float(tempUncertain)/float(len(predIsTrue[j])))\n",
    "    fracUncertainOrSureRun.append(float(tempUncertainOrSureRun)/float(len(predIsTrue[j])))\n",
    "    \n",
    "    # The next few lines find the total number of passing plays, as well as the fraction of pass plays in the second half of the\n",
    "    # season.\n",
    "    tempNumPass = 0\n",
    "    for play in secondHalfOut:\n",
    "        tempNumPass += play[0]\n",
    "    numPass.append(tempNumPass)\n",
    "    fracPass.append(float(numPass[j])/float(len(secondHalfOut)))\n",
    "    \n",
    "    # The following two lines calculate the F1 score while treating 'pass' as the 'positive' value, and then the same with 'run'\n",
    "    # as the 'positive' value.\n",
    "    F1Pass.append(2.0*fracTruePass[j]/(2.0*fracTruePass[j] + fracFalsePass[j] + fracFalseRun[j]))\n",
    "    F1Run.append(2.0*fracTrueRun[j]/(2.0*fracTrueRun[j] + fracFalseRun[j] + fracFalsePass[j]))\n",
    "    j += 1"
   ]
  },
  {
   "cell_type": "code",
   "execution_count": 44,
   "metadata": {
    "collapsed": false
   },
   "outputs": [
    {
     "data": {
      "text/plain": [
       "[0.6789667896678967,\n",
       " 0.68,\n",
       " 0.6535433070866141,\n",
       " 0.55893536121673,\n",
       " 0.6311787072243346,\n",
       " 0.6360078277886497,\n",
       " 0.6703296703296703,\n",
       " 0.6610486891385767,\n",
       " 0.6648550724637681,\n",
       " 0.6338797814207651,\n",
       " 0.6303972366148531,\n",
       " 0.6766256590509666,\n",
       " 0.6454388984509466,\n",
       " 0.5803571428571429,\n",
       " 0.6289752650176679,\n",
       " 0.6679389312977099,\n",
       " 0.6696588868940754,\n",
       " 0.6257309941520468,\n",
       " 0.5953125,\n",
       " 0.7102803738317757,\n",
       " 0.6750972762645915,\n",
       " 0.6473594548551959,\n",
       " 0.6844106463878327,\n",
       " 0.6433566433566433,\n",
       " 0.6819047619047619,\n",
       " 0.6383763837638377,\n",
       " 0.5958132045088567,\n",
       " 0.5959780621572212,\n",
       " 0.6400778210116731,\n",
       " 0.7038461538461539,\n",
       " 0.658008658008658,\n",
       " 0.6227897838899804]"
      ]
     },
     "execution_count": 44,
     "metadata": {},
     "output_type": "execute_result"
    }
   ],
   "source": [
    "fracCorrect"
   ]
  },
  {
   "cell_type": "code",
   "execution_count": 8,
   "metadata": {
    "collapsed": false
   },
   "outputs": [
    {
     "data": {
      "text/plain": [
       "[0.6568265682656826,\n",
       " 0.5290909090909091,\n",
       " 0.6259842519685039,\n",
       " 0.6615969581749049,\n",
       " 0.5437262357414449,\n",
       " 0.6203522504892368,\n",
       " 0.6703296703296703,\n",
       " 0.5936329588014981,\n",
       " 0.4927536231884058,\n",
       " 0.6284153005464481,\n",
       " 0.6044905008635578,\n",
       " 0.6028119507908611,\n",
       " 0.5972461273666093,\n",
       " 0.5200892857142857,\n",
       " 0.6183745583038869,\n",
       " 0.6297709923664122,\n",
       " 0.5224416517055656,\n",
       " 0.6101364522417154,\n",
       " 0.6140625,\n",
       " 0.5158878504672897,\n",
       " 0.6186770428015564,\n",
       " 0.4991482112436116,\n",
       " 0.6026615969581749,\n",
       " 0.5804195804195804,\n",
       " 0.5866666666666667,\n",
       " 0.5940959409594095,\n",
       " 0.5668276972624798,\n",
       " 0.5850091407678245,\n",
       " 0.5953307392996109,\n",
       " 0.551923076923077,\n",
       " 0.6385281385281385,\n",
       " 0.49901768172888017]"
      ]
     },
     "execution_count": 8,
     "metadata": {},
     "output_type": "execute_result"
    }
   ],
   "source": [
    "fracPass"
   ]
  },
  {
   "cell_type": "code",
   "execution_count": 63,
   "metadata": {
    "collapsed": false
   },
   "outputs": [
    {
     "data": {
      "text/plain": [
       "[0.48523985239852396,\n",
       " 0.649090909090909,\n",
       " 0.4015748031496063,\n",
       " 0.3669201520912547,\n",
       " 0.44106463878326996,\n",
       " 0.48140900195694714,\n",
       " 0.47802197802197804,\n",
       " 0.41198501872659177,\n",
       " 0.4963768115942029,\n",
       " 0.21311475409836064,\n",
       " 0.10535405872193437,\n",
       " 0.4182776801405975,\n",
       " 0.3270223752151463,\n",
       " 0.5513392857142857,\n",
       " 0.3568904593639576,\n",
       " 0.4312977099236641,\n",
       " 0.3087971274685817,\n",
       " 0.4502923976608187,\n",
       " 0.5078125,\n",
       " 0.5626168224299065,\n",
       " 0.3949416342412451,\n",
       " 0.3577512776831346,\n",
       " 0.4296577946768061,\n",
       " 0.27972027972027974,\n",
       " 0.3980952380952381,\n",
       " 0.3929889298892989,\n",
       " 0.5442834138486312,\n",
       " 0.4954296160877514,\n",
       " 0.37937743190661477,\n",
       " 0.24807692307692308,\n",
       " 0.4588744588744589,\n",
       " 0.5913555992141454]"
      ]
     },
     "execution_count": 63,
     "metadata": {},
     "output_type": "execute_result"
    }
   ],
   "source": [
    "fracUncertain"
   ]
  },
  {
   "cell_type": "code",
   "execution_count": 53,
   "metadata": {
    "collapsed": false
   },
   "outputs": [
    {
     "data": {
      "text/plain": [
       "<matplotlib.text.Text at 0xcd08f98>"
      ]
     },
     "execution_count": 53,
     "metadata": {},
     "output_type": "execute_result"
    }
   ],
   "source": [
    "linfitCorrect = sm.OLS(totYds, sm.add_constant(fracCorrect))\n",
    "linfitCorrectresult = linfitCorrect.fit()\n",
    "xvalsCorrect = [.55, .72]\n",
    "yvalsCorrect = [linfitCorrectresult.params[1]*xvalsCorrect[0] + linfitCorrectresult.params[0], linfitCorrectresult.params[1]*xvalsCorrect[1] + linfitCorrectresult.params[0]]\n",
    "plot1 = pl.plot(fracCorrect,totYds,'gx', xvalsCorrect, yvalsCorrect)\n",
    "pl.ylabel('Total Yards')\n",
    "pl.xlabel('Fraction of Correct Predictions')"
   ]
  },
  {
   "cell_type": "code",
   "execution_count": 54,
   "metadata": {
    "collapsed": false
   },
   "outputs": [],
   "source": [
    "pl.show(plot1)"
   ]
  },
  {
   "cell_type": "code",
   "execution_count": 49,
   "metadata": {
    "collapsed": true
   },
   "outputs": [],
   "source": [
    "linfitF1Pass = sm.OLS(totYds, sm.add_constant(F1Pass))\n",
    "linfitF1Passresult = linfitF1Pass.fit()\n",
    "xvalsF1Pass = [.55, .80]\n",
    "yvalsF1Pass = [linfitF1Passresult.params[1]*xvalsF1Pass[0] + linfitF1Passresult.params[0], linfitF1Passresult.params[1]*xvalsF1Pass[1] + linfitF1Passresult.params[0]]\n",
    "plotF1Pass = pl.plot(F1Pass,totYds,'gx', xvalsF1Pass, yvalsF1Pass)"
   ]
  },
  {
   "cell_type": "code",
   "execution_count": 50,
   "metadata": {
    "collapsed": true
   },
   "outputs": [],
   "source": [
    "pl.show(plotF1Pass)"
   ]
  },
  {
   "cell_type": "code",
   "execution_count": 55,
   "metadata": {
    "collapsed": true
   },
   "outputs": [],
   "source": [
    "linfitF1Run = sm.OLS(totYds, sm.add_constant(F1Run))\n",
    "linfitF1Runresult = linfitF1Run.fit()\n",
    "xvalsF1Run = [0, .7]\n",
    "yvalsF1Run = [linfitF1Runresult.params[1]*xvalsF1Run[0] + linfitF1Runresult.params[0], linfitF1Runresult.params[1]*xvalsF1Run[1] + linfitF1Runresult.params[0]]\n",
    "plotF1Run = pl.plot(F1Run,totYds,'gx', xvalsF1Run, yvalsF1Run)"
   ]
  },
  {
   "cell_type": "code",
   "execution_count": 56,
   "metadata": {
    "collapsed": true
   },
   "outputs": [],
   "source": [
    "pl.show(plotF1Run)"
   ]
  },
  {
   "cell_type": "code",
   "execution_count": null,
   "metadata": {
    "collapsed": true
   },
   "outputs": [],
   "source": [
    "difference = []\n",
    "j = 0\n",
    "while j < len(fracCorrect):\n",
    "    difference.append(fracCorrect[j]-fracPass[j])\n",
    "    j += 1"
   ]
  },
  {
   "cell_type": "code",
   "execution_count": null,
   "metadata": {
    "collapsed": true
   },
   "outputs": [],
   "source": [
    "difference"
   ]
  },
  {
   "cell_type": "code",
   "execution_count": 60,
   "metadata": {
    "collapsed": false
   },
   "outputs": [],
   "source": [
    "linfitdiff = sm.OLS(totYds, sm.add_constant(difference))\n",
    "linfitdiffresult = linfitdiff.fit()\n",
    "xvalsdiff = [-.04, .14]\n",
    "yvalsdiff = [linfitdiffresult.params[1]*xvalsdiff[0] + linfitdiffresult.params[0], linfitdiffresult.params[1]*xvalsdiff[1] + linfitdiffresult.params[0]]\n",
    "plotdiff = pl.plot(difference, totYds, 'gx', xvalsdiff, yvalsdiff)"
   ]
  },
  {
   "cell_type": "code",
   "execution_count": 61,
   "metadata": {
    "collapsed": true
   },
   "outputs": [],
   "source": [
    "pl.show(plotdiff)"
   ]
  },
  {
   "cell_type": "code",
   "execution_count": 73,
   "metadata": {
    "collapsed": true
   },
   "outputs": [],
   "source": [
    "OLSUncertain = sm.OLS(pts, sm.add_constant(fracUncertain))\n",
    "fitUncertain = OLSUncertain.fit()\n",
    "xvalsUncertain = [.1, .7]\n",
    "yvalsUncertain = [fitUncertain.params[1]*xvalsUncertain[0] + fitUncertain.params[0], fitUncertain.params[1]*xvalsUncertain[1] + fitUncertain.params[0]]\n",
    "plotUncertain = pl.plot(fracUncertain, pts, 'gx', xvalsUncertain, yvalsUncertain)"
   ]
  },
  {
   "cell_type": "code",
   "execution_count": 74,
   "metadata": {
    "collapsed": true
   },
   "outputs": [],
   "source": [
    "pl.show(plotUncertain)"
   ]
  },
  {
   "cell_type": "code",
   "execution_count": 75,
   "metadata": {
    "collapsed": false
   },
   "outputs": [
    {
     "data": {
      "text/html": [
       "<table class=\"simpletable\">\n",
       "<caption>OLS Regression Results</caption>\n",
       "<tr>\n",
       "  <th>Dep. Variable:</th>            <td>y</td>        <th>  R-squared:         </th> <td>   0.003</td>\n",
       "</tr>\n",
       "<tr>\n",
       "  <th>Model:</th>                   <td>OLS</td>       <th>  Adj. R-squared:    </th> <td>  -0.030</td>\n",
       "</tr>\n",
       "<tr>\n",
       "  <th>Method:</th>             <td>Least Squares</td>  <th>  F-statistic:       </th> <td> 0.09067</td>\n",
       "</tr>\n",
       "<tr>\n",
       "  <th>Date:</th>             <td>Fri, 27 Jan 2017</td> <th>  Prob (F-statistic):</th>  <td> 0.765</td> \n",
       "</tr>\n",
       "<tr>\n",
       "  <th>Time:</th>                 <td>21:37:00</td>     <th>  Log-Likelihood:    </th> <td> -176.35</td>\n",
       "</tr>\n",
       "<tr>\n",
       "  <th>No. Observations:</th>      <td>    32</td>      <th>  AIC:               </th> <td>   356.7</td>\n",
       "</tr>\n",
       "<tr>\n",
       "  <th>Df Residuals:</th>          <td>    30</td>      <th>  BIC:               </th> <td>   359.6</td>\n",
       "</tr>\n",
       "<tr>\n",
       "  <th>Df Model:</th>              <td>     1</td>      <th>                     </th>     <td> </td>   \n",
       "</tr>\n",
       "<tr>\n",
       "  <th>Covariance Type:</th>      <td>nonrobust</td>    <th>                     </th>     <td> </td>   \n",
       "</tr>\n",
       "</table>\n",
       "<table class=\"simpletable\">\n",
       "<tr>\n",
       "    <td></td>       <th>coef</th>     <th>std err</th>      <th>t</th>      <th>P>|t|</th> <th>[95.0% Conf. Int.]</th> \n",
       "</tr>\n",
       "<tr>\n",
       "  <th>const</th> <td>  352.5868</td> <td>   42.647</td> <td>    8.267</td> <td> 0.000</td> <td>  265.489   439.685</td>\n",
       "</tr>\n",
       "<tr>\n",
       "  <th>x1</th>    <td>   29.6101</td> <td>   98.334</td> <td>    0.301</td> <td> 0.765</td> <td> -171.215   230.435</td>\n",
       "</tr>\n",
       "</table>\n",
       "<table class=\"simpletable\">\n",
       "<tr>\n",
       "  <th>Omnibus:</th>       <td> 0.879</td> <th>  Durbin-Watson:     </th> <td>   2.326</td>\n",
       "</tr>\n",
       "<tr>\n",
       "  <th>Prob(Omnibus):</th> <td> 0.644</td> <th>  Jarque-Bera (JB):  </th> <td>   0.446</td>\n",
       "</tr>\n",
       "<tr>\n",
       "  <th>Skew:</th>          <td> 0.289</td> <th>  Prob(JB):          </th> <td>   0.800</td>\n",
       "</tr>\n",
       "<tr>\n",
       "  <th>Kurtosis:</th>      <td> 3.028</td> <th>  Cond. No.          </th> <td>    10.6</td>\n",
       "</tr>\n",
       "</table>"
      ],
      "text/plain": [
       "<class 'statsmodels.iolib.summary.Summary'>\n",
       "\"\"\"\n",
       "                            OLS Regression Results                            \n",
       "==============================================================================\n",
       "Dep. Variable:                      y   R-squared:                       0.003\n",
       "Model:                            OLS   Adj. R-squared:                 -0.030\n",
       "Method:                 Least Squares   F-statistic:                   0.09067\n",
       "Date:                Fri, 27 Jan 2017   Prob (F-statistic):              0.765\n",
       "Time:                        21:37:00   Log-Likelihood:                -176.35\n",
       "No. Observations:                  32   AIC:                             356.7\n",
       "Df Residuals:                      30   BIC:                             359.6\n",
       "Df Model:                           1                                         \n",
       "Covariance Type:            nonrobust                                         \n",
       "==============================================================================\n",
       "                 coef    std err          t      P>|t|      [95.0% Conf. Int.]\n",
       "------------------------------------------------------------------------------\n",
       "const        352.5868     42.647      8.267      0.000       265.489   439.685\n",
       "x1            29.6101     98.334      0.301      0.765      -171.215   230.435\n",
       "==============================================================================\n",
       "Omnibus:                        0.879   Durbin-Watson:                   2.326\n",
       "Prob(Omnibus):                  0.644   Jarque-Bera (JB):                0.446\n",
       "Skew:                           0.289   Prob(JB):                        0.800\n",
       "Kurtosis:                       3.028   Cond. No.                         10.6\n",
       "==============================================================================\n",
       "\n",
       "Warnings:\n",
       "[1] Standard Errors assume that the covariance matrix of the errors is correctly specified.\n",
       "\"\"\""
      ]
     },
     "execution_count": 75,
     "metadata": {},
     "output_type": "execute_result"
    }
   ],
   "source": [
    "fitUncertain.summary()"
   ]
  },
  {
   "cell_type": "code",
   "execution_count": 86,
   "metadata": {
    "collapsed": false
   },
   "outputs": [],
   "source": [
    "OLSUncertainOrSureRun = sm.OLS(pts, sm.add_constant(fracUncertainOrSureRun))\n",
    "fitUncertainOrSureRun = OLSUncertainOrSureRun.fit()\n",
    "xvalsUncertainOrSureRun = [.1, .9]\n",
    "yvalsUncertainOrSureRun = [fitUncertainOrSureRun.params[1]*xvalsUncertainOrSureRun[0] + fitUncertainOrSureRun.params[0], fitUncertainOrSureRun.params[1]*xvalsUncertainOrSureRun[1] + fitUncertainOrSureRun.params[0]]\n",
    "plotUncertainOrSureRun = pl.plot(fracUncertainOrSureRun, pts, 'gx', xvalsUncertainOrSureRun, yvalsUncertainOrSureRun)"
   ]
  },
  {
   "cell_type": "code",
   "execution_count": 87,
   "metadata": {
    "collapsed": true
   },
   "outputs": [],
   "source": [
    "pl.show(plotUncertainOrSureRun)"
   ]
  },
  {
   "cell_type": "code",
   "execution_count": 85,
   "metadata": {
    "collapsed": false
   },
   "outputs": [
    {
     "data": {
      "text/html": [
       "<table class=\"simpletable\">\n",
       "<caption>OLS Regression Results</caption>\n",
       "<tr>\n",
       "  <th>Dep. Variable:</th>            <td>y</td>        <th>  R-squared:         </th> <td>   0.030</td>\n",
       "</tr>\n",
       "<tr>\n",
       "  <th>Model:</th>                   <td>OLS</td>       <th>  Adj. R-squared:    </th> <td>  -0.003</td>\n",
       "</tr>\n",
       "<tr>\n",
       "  <th>Method:</th>             <td>Least Squares</td>  <th>  F-statistic:       </th> <td>  0.9173</td>\n",
       "</tr>\n",
       "<tr>\n",
       "  <th>Date:</th>             <td>Fri, 27 Jan 2017</td> <th>  Prob (F-statistic):</th>  <td> 0.346</td> \n",
       "</tr>\n",
       "<tr>\n",
       "  <th>Time:</th>                 <td>21:43:02</td>     <th>  Log-Likelihood:    </th> <td> -175.91</td>\n",
       "</tr>\n",
       "<tr>\n",
       "  <th>No. Observations:</th>      <td>    32</td>      <th>  AIC:               </th> <td>   355.8</td>\n",
       "</tr>\n",
       "<tr>\n",
       "  <th>Df Residuals:</th>          <td>    30</td>      <th>  BIC:               </th> <td>   358.8</td>\n",
       "</tr>\n",
       "<tr>\n",
       "  <th>Df Model:</th>              <td>     1</td>      <th>                     </th>     <td> </td>   \n",
       "</tr>\n",
       "<tr>\n",
       "  <th>Covariance Type:</th>      <td>nonrobust</td>    <th>                     </th>     <td> </td>   \n",
       "</tr>\n",
       "</table>\n",
       "<table class=\"simpletable\">\n",
       "<tr>\n",
       "    <td></td>       <th>coef</th>     <th>std err</th>      <th>t</th>      <th>P>|t|</th> <th>[95.0% Conf. Int.]</th> \n",
       "</tr>\n",
       "<tr>\n",
       "  <th>const</th> <td>  323.2772</td> <td>   44.878</td> <td>    7.203</td> <td> 0.000</td> <td>  231.623   414.931</td>\n",
       "</tr>\n",
       "<tr>\n",
       "  <th>x1</th>    <td>   76.8888</td> <td>   80.282</td> <td>    0.958</td> <td> 0.346</td> <td>  -87.069   240.847</td>\n",
       "</tr>\n",
       "</table>\n",
       "<table class=\"simpletable\">\n",
       "<tr>\n",
       "  <th>Omnibus:</th>       <td> 0.833</td> <th>  Durbin-Watson:     </th> <td>   2.198</td>\n",
       "</tr>\n",
       "<tr>\n",
       "  <th>Prob(Omnibus):</th> <td> 0.659</td> <th>  Jarque-Bera (JB):  </th> <td>   0.376</td>\n",
       "</tr>\n",
       "<tr>\n",
       "  <th>Skew:</th>          <td> 0.264</td> <th>  Prob(JB):          </th> <td>   0.829</td>\n",
       "</tr>\n",
       "<tr>\n",
       "  <th>Kurtosis:</th>      <td> 3.061</td> <th>  Cond. No.          </th> <td>    9.67</td>\n",
       "</tr>\n",
       "</table>"
      ],
      "text/plain": [
       "<class 'statsmodels.iolib.summary.Summary'>\n",
       "\"\"\"\n",
       "                            OLS Regression Results                            \n",
       "==============================================================================\n",
       "Dep. Variable:                      y   R-squared:                       0.030\n",
       "Model:                            OLS   Adj. R-squared:                 -0.003\n",
       "Method:                 Least Squares   F-statistic:                    0.9173\n",
       "Date:                Fri, 27 Jan 2017   Prob (F-statistic):              0.346\n",
       "Time:                        21:43:02   Log-Likelihood:                -175.91\n",
       "No. Observations:                  32   AIC:                             355.8\n",
       "Df Residuals:                      30   BIC:                             358.8\n",
       "Df Model:                           1                                         \n",
       "Covariance Type:            nonrobust                                         \n",
       "==============================================================================\n",
       "                 coef    std err          t      P>|t|      [95.0% Conf. Int.]\n",
       "------------------------------------------------------------------------------\n",
       "const        323.2772     44.878      7.203      0.000       231.623   414.931\n",
       "x1            76.8888     80.282      0.958      0.346       -87.069   240.847\n",
       "==============================================================================\n",
       "Omnibus:                        0.833   Durbin-Watson:                   2.198\n",
       "Prob(Omnibus):                  0.659   Jarque-Bera (JB):                0.376\n",
       "Skew:                           0.264   Prob(JB):                        0.829\n",
       "Kurtosis:                       3.061   Cond. No.                         9.67\n",
       "==============================================================================\n",
       "\n",
       "Warnings:\n",
       "[1] Standard Errors assume that the covariance matrix of the errors is correctly specified.\n",
       "\"\"\""
      ]
     },
     "execution_count": 85,
     "metadata": {},
     "output_type": "execute_result"
    }
   ],
   "source": [
    "fitUncertainOrSureRun.summary()"
   ]
  },
  {
   "cell_type": "code",
   "execution_count": 88,
   "metadata": {
    "collapsed": false,
    "scrolled": true
   },
   "outputs": [
    {
     "data": {
      "text/plain": [
       "['HC0_se',\n",
       " 'HC1_se',\n",
       " 'HC2_se',\n",
       " 'HC3_se',\n",
       " '_HCCM',\n",
       " '__class__',\n",
       " '__delattr__',\n",
       " '__dict__',\n",
       " '__doc__',\n",
       " '__format__',\n",
       " '__getattribute__',\n",
       " '__hash__',\n",
       " '__init__',\n",
       " '__module__',\n",
       " '__new__',\n",
       " '__reduce__',\n",
       " '__reduce_ex__',\n",
       " '__repr__',\n",
       " '__setattr__',\n",
       " '__sizeof__',\n",
       " '__str__',\n",
       " '__subclasshook__',\n",
       " '__weakref__',\n",
       " '_cache',\n",
       " '_data_attr',\n",
       " '_get_robustcov_results',\n",
       " '_is_nested',\n",
       " '_wexog_singular_values',\n",
       " 'aic',\n",
       " 'bic',\n",
       " 'bse',\n",
       " 'centered_tss',\n",
       " 'compare_f_test',\n",
       " 'compare_lm_test',\n",
       " 'compare_lr_test',\n",
       " 'condition_number',\n",
       " 'conf_int',\n",
       " 'conf_int_el',\n",
       " 'cov_HC0',\n",
       " 'cov_HC1',\n",
       " 'cov_HC2',\n",
       " 'cov_HC3',\n",
       " 'cov_kwds',\n",
       " 'cov_params',\n",
       " 'cov_type',\n",
       " 'df_model',\n",
       " 'df_resid',\n",
       " 'eigenvals',\n",
       " 'el_test',\n",
       " 'ess',\n",
       " 'f_pvalue',\n",
       " 'f_test',\n",
       " 'fittedvalues',\n",
       " 'fvalue',\n",
       " 'get_influence',\n",
       " 'get_robustcov_results',\n",
       " 'initialize',\n",
       " 'k_constant',\n",
       " 'llf',\n",
       " 'load',\n",
       " 'model',\n",
       " 'mse_model',\n",
       " 'mse_resid',\n",
       " 'mse_total',\n",
       " 'nobs',\n",
       " 'normalized_cov_params',\n",
       " 'outlier_test',\n",
       " 'params',\n",
       " 'predict',\n",
       " 'pvalues',\n",
       " 'remove_data',\n",
       " 'resid',\n",
       " 'resid_pearson',\n",
       " 'rsquared',\n",
       " 'rsquared_adj',\n",
       " 'save',\n",
       " 'scale',\n",
       " 'ssr',\n",
       " 'summary',\n",
       " 'summary2',\n",
       " 't_test',\n",
       " 'tvalues',\n",
       " 'uncentered_tss',\n",
       " 'use_t',\n",
       " 'wald_test',\n",
       " 'wresid']"
      ]
     },
     "execution_count": 88,
     "metadata": {},
     "output_type": "execute_result"
    }
   ],
   "source": [
    "dir(fitUncertainOrSureRun)"
   ]
  },
  {
   "cell_type": "code",
   "execution_count": 111,
   "metadata": {
    "collapsed": false
   },
   "outputs": [
    {
     "data": {
      "text/plain": [
       "(-0.11943372217607154, 153.2644912452145)"
      ]
     },
     "execution_count": 111,
     "metadata": {},
     "output_type": "execute_result"
    }
   ],
   "source": [
    "fitUncertainOrSureRun.conf_int_el(1,sig = .477)"
   ]
  },
  {
   "cell_type": "code",
   "execution_count": 123,
   "metadata": {
    "collapsed": true
   },
   "outputs": [],
   "source": [
    "OLSUncertainOrSureRunYds = sm.OLS(totYds, sm.add_constant(fracUncertainOrSureRun))\n",
    "fitUncertainOrSureRunYds = OLSUncertainOrSureRunYds.fit()\n",
    "xvalsUncertainOrSureRunYds = [.1, .9]\n",
    "yvalsUncertainOrSureRunYds = [fitUncertainOrSureRunYds.params[1]*xvalsUncertainOrSureRunYds[0] + fitUncertainOrSureRunYds.params[0], fitUncertainOrSureRunYds.params[1]*xvalsUncertainOrSureRunYds[1] + fitUncertainOrSureRunYds.params[0]]\n",
    "plotUncertainOrSureRunYds = pl.plot(fracUncertainOrSureRun, totYds, 'gx', xvalsUncertainOrSureRunYds, yvalsUncertainOrSureRunYds)"
   ]
  },
  {
   "cell_type": "code",
   "execution_count": 124,
   "metadata": {
    "collapsed": true
   },
   "outputs": [],
   "source": [
    "pl.show(plotUncertainOrSureRunYds)"
   ]
  },
  {
   "cell_type": "code",
   "execution_count": 114,
   "metadata": {
    "collapsed": false
   },
   "outputs": [
    {
     "data": {
      "text/plain": [
       "[330.96611200578815, 392.47718507000644]"
      ]
     },
     "execution_count": 114,
     "metadata": {},
     "output_type": "execute_result"
    }
   ],
   "source": [
    "yvalsUncertainOrSureRunYds"
   ]
  },
  {
   "cell_type": "code",
   "execution_count": 120,
   "metadata": {
    "collapsed": false
   },
   "outputs": [
    {
     "data": {
      "text/html": [
       "<table class=\"simpletable\">\n",
       "<caption>OLS Regression Results</caption>\n",
       "<tr>\n",
       "  <th>Dep. Variable:</th>            <td>y</td>        <th>  R-squared:         </th> <td>   0.013</td>\n",
       "</tr>\n",
       "<tr>\n",
       "  <th>Model:</th>                   <td>OLS</td>       <th>  Adj. R-squared:    </th> <td>  -0.020</td>\n",
       "</tr>\n",
       "<tr>\n",
       "  <th>Method:</th>             <td>Least Squares</td>  <th>  F-statistic:       </th> <td>  0.3894</td>\n",
       "</tr>\n",
       "<tr>\n",
       "  <th>Date:</th>             <td>Fri, 27 Jan 2017</td> <th>  Prob (F-statistic):</th>  <td> 0.537</td> \n",
       "</tr>\n",
       "<tr>\n",
       "  <th>Time:</th>                 <td>22:35:33</td>     <th>  Log-Likelihood:    </th> <td> -239.02</td>\n",
       "</tr>\n",
       "<tr>\n",
       "  <th>No. Observations:</th>      <td>    32</td>      <th>  AIC:               </th> <td>   482.0</td>\n",
       "</tr>\n",
       "<tr>\n",
       "  <th>Df Residuals:</th>          <td>    30</td>      <th>  BIC:               </th> <td>   485.0</td>\n",
       "</tr>\n",
       "<tr>\n",
       "  <th>Df Model:</th>              <td>     1</td>      <th>                     </th>     <td> </td>   \n",
       "</tr>\n",
       "<tr>\n",
       "  <th>Covariance Type:</th>      <td>nonrobust</td>    <th>                     </th>     <td> </td>   \n",
       "</tr>\n",
       "</table>\n",
       "<table class=\"simpletable\">\n",
       "<tr>\n",
       "    <td></td>       <th>coef</th>     <th>std err</th>      <th>t</th>      <th>P>|t|</th> <th>[95.0% Conf. Int.]</th> \n",
       "</tr>\n",
       "<tr>\n",
       "  <th>const</th> <td> 5447.4263</td> <td>  322.511</td> <td>   16.891</td> <td> 0.000</td> <td> 4788.771  6106.082</td>\n",
       "</tr>\n",
       "<tr>\n",
       "  <th>x1</th>    <td>  360.0099</td> <td>  576.936</td> <td>    0.624</td> <td> 0.537</td> <td> -818.250  1538.270</td>\n",
       "</tr>\n",
       "</table>\n",
       "<table class=\"simpletable\">\n",
       "<tr>\n",
       "  <th>Omnibus:</th>       <td> 0.011</td> <th>  Durbin-Watson:     </th> <td>   2.061</td>\n",
       "</tr>\n",
       "<tr>\n",
       "  <th>Prob(Omnibus):</th> <td> 0.994</td> <th>  Jarque-Bera (JB):  </th> <td>   0.176</td>\n",
       "</tr>\n",
       "<tr>\n",
       "  <th>Skew:</th>          <td>-0.031</td> <th>  Prob(JB):          </th> <td>   0.916</td>\n",
       "</tr>\n",
       "<tr>\n",
       "  <th>Kurtosis:</th>      <td> 2.642</td> <th>  Cond. No.          </th> <td>    9.67</td>\n",
       "</tr>\n",
       "</table>"
      ],
      "text/plain": [
       "<class 'statsmodels.iolib.summary.Summary'>\n",
       "\"\"\"\n",
       "                            OLS Regression Results                            \n",
       "==============================================================================\n",
       "Dep. Variable:                      y   R-squared:                       0.013\n",
       "Model:                            OLS   Adj. R-squared:                 -0.020\n",
       "Method:                 Least Squares   F-statistic:                    0.3894\n",
       "Date:                Fri, 27 Jan 2017   Prob (F-statistic):              0.537\n",
       "Time:                        22:35:33   Log-Likelihood:                -239.02\n",
       "No. Observations:                  32   AIC:                             482.0\n",
       "Df Residuals:                      30   BIC:                             485.0\n",
       "Df Model:                           1                                         \n",
       "Covariance Type:            nonrobust                                         \n",
       "==============================================================================\n",
       "                 coef    std err          t      P>|t|      [95.0% Conf. Int.]\n",
       "------------------------------------------------------------------------------\n",
       "const       5447.4263    322.511     16.891      0.000      4788.771  6106.082\n",
       "x1           360.0099    576.936      0.624      0.537      -818.250  1538.270\n",
       "==============================================================================\n",
       "Omnibus:                        0.011   Durbin-Watson:                   2.061\n",
       "Prob(Omnibus):                  0.994   Jarque-Bera (JB):                0.176\n",
       "Skew:                          -0.031   Prob(JB):                        0.916\n",
       "Kurtosis:                       2.642   Cond. No.                         9.67\n",
       "==============================================================================\n",
       "\n",
       "Warnings:\n",
       "[1] Standard Errors assume that the covariance matrix of the errors is correctly specified.\n",
       "\"\"\""
      ]
     },
     "execution_count": 120,
     "metadata": {},
     "output_type": "execute_result"
    }
   ],
   "source": [
    "fitUncertainOrSureRunYds.summary()"
   ]
  },
  {
   "cell_type": "code",
   "execution_count": 11,
   "metadata": {
    "collapsed": true
   },
   "outputs": [
    {
     "data": {
      "text/html": [
       "<table class=\"simpletable\">\n",
       "<caption>OLS Regression Results</caption>\n",
       "<tr>\n",
       "  <th>Dep. Variable:</th>            <td>y</td>        <th>  R-squared:         </th> <td>   0.033</td>\n",
       "</tr>\n",
       "<tr>\n",
       "  <th>Model:</th>                   <td>OLS</td>       <th>  Adj. R-squared:    </th> <td>   0.001</td>\n",
       "</tr>\n",
       "<tr>\n",
       "  <th>Method:</th>             <td>Least Squares</td>  <th>  F-statistic:       </th> <td>   1.020</td>\n",
       "</tr>\n",
       "<tr>\n",
       "  <th>Date:</th>             <td>Tue, 01 Nov 2016</td> <th>  Prob (F-statistic):</th>  <td> 0.321</td> \n",
       "</tr>\n",
       "<tr>\n",
       "  <th>Time:</th>                 <td>00:58:28</td>     <th>  Log-Likelihood:    </th> <td> -238.70</td>\n",
       "</tr>\n",
       "<tr>\n",
       "  <th>No. Observations:</th>      <td>    32</td>      <th>  AIC:               </th> <td>   481.4</td>\n",
       "</tr>\n",
       "<tr>\n",
       "  <th>Df Residuals:</th>          <td>    30</td>      <th>  BIC:               </th> <td>   484.3</td>\n",
       "</tr>\n",
       "<tr>\n",
       "  <th>Df Model:</th>              <td>     1</td>      <th>                     </th>     <td> </td>   \n",
       "</tr>\n",
       "<tr>\n",
       "  <th>Covariance Type:</th>      <td>nonrobust</td>    <th>                     </th>     <td> </td>   \n",
       "</tr>\n",
       "</table>\n",
       "<table class=\"simpletable\">\n",
       "<tr>\n",
       "    <td></td>       <th>coef</th>     <th>std err</th>      <th>t</th>      <th>P>|t|</th> <th>[95.0% Conf. Int.]</th> \n",
       "</tr>\n",
       "<tr>\n",
       "  <th>const</th> <td> 6591.3655</td> <td>  942.445</td> <td>    6.994</td> <td> 0.000</td> <td> 4666.636  8516.095</td>\n",
       "</tr>\n",
       "<tr>\n",
       "  <th>x1</th>    <td>-1340.2919</td> <td> 1327.202</td> <td>   -1.010</td> <td> 0.321</td> <td>-4050.800  1370.216</td>\n",
       "</tr>\n",
       "</table>\n",
       "<table class=\"simpletable\">\n",
       "<tr>\n",
       "  <th>Omnibus:</th>       <td> 0.034</td> <th>  Durbin-Watson:     </th> <td>   2.112</td>\n",
       "</tr>\n",
       "<tr>\n",
       "  <th>Prob(Omnibus):</th> <td> 0.983</td> <th>  Jarque-Bera (JB):  </th> <td>   0.236</td>\n",
       "</tr>\n",
       "<tr>\n",
       "  <th>Skew:</th>          <td>-0.008</td> <th>  Prob(JB):          </th> <td>   0.889</td>\n",
       "</tr>\n",
       "<tr>\n",
       "  <th>Kurtosis:</th>      <td> 2.579</td> <th>  Cond. No.          </th> <td>    26.0</td>\n",
       "</tr>\n",
       "</table>"
      ],
      "text/plain": [
       "<class 'statsmodels.iolib.summary.Summary'>\n",
       "\"\"\"\n",
       "                            OLS Regression Results                            \n",
       "==============================================================================\n",
       "Dep. Variable:                      y   R-squared:                       0.033\n",
       "Model:                            OLS   Adj. R-squared:                  0.001\n",
       "Method:                 Least Squares   F-statistic:                     1.020\n",
       "Date:                Tue, 01 Nov 2016   Prob (F-statistic):              0.321\n",
       "Time:                        00:58:28   Log-Likelihood:                -238.70\n",
       "No. Observations:                  32   AIC:                             481.4\n",
       "Df Residuals:                      30   BIC:                             484.3\n",
       "Df Model:                           1                                         \n",
       "Covariance Type:            nonrobust                                         \n",
       "==============================================================================\n",
       "                 coef    std err          t      P>|t|      [95.0% Conf. Int.]\n",
       "------------------------------------------------------------------------------\n",
       "const       6591.3655    942.445      6.994      0.000      4666.636  8516.095\n",
       "x1         -1340.2919   1327.202     -1.010      0.321     -4050.800  1370.216\n",
       "==============================================================================\n",
       "Omnibus:                        0.034   Durbin-Watson:                   2.112\n",
       "Prob(Omnibus):                  0.983   Jarque-Bera (JB):                0.236\n",
       "Skew:                          -0.008   Prob(JB):                        0.889\n",
       "Kurtosis:                       2.579   Cond. No.                         26.0\n",
       "==============================================================================\n",
       "\n",
       "Warnings:\n",
       "[1] Standard Errors assume that the covariance matrix of the errors is correctly specified.\n",
       "\"\"\""
      ]
     },
     "execution_count": 11,
     "metadata": {},
     "output_type": "execute_result"
    }
   ],
   "source": [
    "linfitF1Passresult.summary()"
   ]
  },
  {
   "cell_type": "code",
   "execution_count": 14,
   "metadata": {
    "collapsed": false
   },
   "outputs": [
    {
     "data": {
      "text/html": [
       "<table class=\"simpletable\">\n",
       "<caption>OLS Regression Results</caption>\n",
       "<tr>\n",
       "  <th>Dep. Variable:</th>            <td>y</td>        <th>  R-squared:         </th> <td>   0.000</td> \n",
       "</tr>\n",
       "<tr>\n",
       "  <th>Model:</th>                   <td>OLS</td>       <th>  Adj. R-squared:    </th> <td>  -0.033</td> \n",
       "</tr>\n",
       "<tr>\n",
       "  <th>Method:</th>             <td>Least Squares</td>  <th>  F-statistic:       </th> <td>0.0001313</td>\n",
       "</tr>\n",
       "<tr>\n",
       "  <th>Date:</th>             <td>Tue, 01 Nov 2016</td> <th>  Prob (F-statistic):</th>  <td> 0.991</td>  \n",
       "</tr>\n",
       "<tr>\n",
       "  <th>Time:</th>                 <td>01:00:58</td>     <th>  Log-Likelihood:    </th> <td> -239.23</td> \n",
       "</tr>\n",
       "<tr>\n",
       "  <th>No. Observations:</th>      <td>    32</td>      <th>  AIC:               </th> <td>   482.5</td> \n",
       "</tr>\n",
       "<tr>\n",
       "  <th>Df Residuals:</th>          <td>    30</td>      <th>  BIC:               </th> <td>   485.4</td> \n",
       "</tr>\n",
       "<tr>\n",
       "  <th>Df Model:</th>              <td>     1</td>      <th>                     </th>     <td> </td>    \n",
       "</tr>\n",
       "<tr>\n",
       "  <th>Covariance Type:</th>      <td>nonrobust</td>    <th>                     </th>     <td> </td>    \n",
       "</tr>\n",
       "</table>\n",
       "<table class=\"simpletable\">\n",
       "<tr>\n",
       "    <td></td>       <th>coef</th>     <th>std err</th>      <th>t</th>      <th>P>|t|</th> <th>[95.0% Conf. Int.]</th> \n",
       "</tr>\n",
       "<tr>\n",
       "  <th>const</th> <td> 5645.1622</td> <td>  221.905</td> <td>   25.440</td> <td> 0.000</td> <td> 5191.972  6098.353</td>\n",
       "</tr>\n",
       "<tr>\n",
       "  <th>x1</th>    <td>   -4.9252</td> <td>  429.754</td> <td>   -0.011</td> <td> 0.991</td> <td> -882.599   872.749</td>\n",
       "</tr>\n",
       "</table>\n",
       "<table class=\"simpletable\">\n",
       "<tr>\n",
       "  <th>Omnibus:</th>       <td> 0.028</td> <th>  Durbin-Watson:     </th> <td>   2.079</td>\n",
       "</tr>\n",
       "<tr>\n",
       "  <th>Prob(Omnibus):</th> <td> 0.986</td> <th>  Jarque-Bera (JB):  </th> <td>   0.228</td>\n",
       "</tr>\n",
       "<tr>\n",
       "  <th>Skew:</th>          <td>-0.001</td> <th>  Prob(JB):          </th> <td>   0.892</td>\n",
       "</tr>\n",
       "<tr>\n",
       "  <th>Kurtosis:</th>      <td> 2.587</td> <th>  Cond. No.          </th> <td>    6.83</td>\n",
       "</tr>\n",
       "</table>"
      ],
      "text/plain": [
       "<class 'statsmodels.iolib.summary.Summary'>\n",
       "\"\"\"\n",
       "                            OLS Regression Results                            \n",
       "==============================================================================\n",
       "Dep. Variable:                      y   R-squared:                       0.000\n",
       "Model:                            OLS   Adj. R-squared:                 -0.033\n",
       "Method:                 Least Squares   F-statistic:                 0.0001313\n",
       "Date:                Tue, 01 Nov 2016   Prob (F-statistic):              0.991\n",
       "Time:                        01:00:58   Log-Likelihood:                -239.23\n",
       "No. Observations:                  32   AIC:                             482.5\n",
       "Df Residuals:                      30   BIC:                             485.4\n",
       "Df Model:                           1                                         \n",
       "Covariance Type:            nonrobust                                         \n",
       "==============================================================================\n",
       "                 coef    std err          t      P>|t|      [95.0% Conf. Int.]\n",
       "------------------------------------------------------------------------------\n",
       "const       5645.1622    221.905     25.440      0.000      5191.972  6098.353\n",
       "x1            -4.9252    429.754     -0.011      0.991      -882.599   872.749\n",
       "==============================================================================\n",
       "Omnibus:                        0.028   Durbin-Watson:                   2.079\n",
       "Prob(Omnibus):                  0.986   Jarque-Bera (JB):                0.228\n",
       "Skew:                          -0.001   Prob(JB):                        0.892\n",
       "Kurtosis:                       2.587   Cond. No.                         6.83\n",
       "==============================================================================\n",
       "\n",
       "Warnings:\n",
       "[1] Standard Errors assume that the covariance matrix of the errors is correctly specified.\n",
       "\"\"\""
      ]
     },
     "execution_count": 14,
     "metadata": {},
     "output_type": "execute_result"
    }
   ],
   "source": [
    "linfitF1Runresult.summary()"
   ]
  },
  {
   "cell_type": "code",
   "execution_count": 1,
   "metadata": {
    "collapsed": false
   },
   "outputs": [
    {
     "ename": "NameError",
     "evalue": "name 'fracPass' is not defined",
     "output_type": "error",
     "traceback": [
      "\u001b[1;31m---------------------------------------------------------------------------\u001b[0m",
      "\u001b[1;31mNameError\u001b[0m                                 Traceback (most recent call last)",
      "\u001b[1;32m<ipython-input-1-ad526f6d4cfb>\u001b[0m in \u001b[0;36m<module>\u001b[1;34m()\u001b[0m\n\u001b[1;32m----> 1\u001b[1;33m \u001b[0mfracPass\u001b[0m\u001b[1;33m[\u001b[0m\u001b[1;36m6\u001b[0m\u001b[1;33m]\u001b[0m\u001b[1;33m\u001b[0m\u001b[0m\n\u001b[0m",
      "\u001b[1;31mNameError\u001b[0m: name 'fracPass' is not defined"
     ]
    }
   ],
   "source": [
    "fracPass[6]"
   ]
  },
  {
   "cell_type": "code",
   "execution_count": 22,
   "metadata": {
    "collapsed": false
   },
   "outputs": [
    {
     "data": {
      "text/html": [
       "<table class=\"simpletable\">\n",
       "<caption>Logit Regression Results</caption>\n",
       "<tr>\n",
       "  <th>Dep. Variable:</th>         <td>y</td>        <th>  No. Observations:  </th>  <td>   506</td>  \n",
       "</tr>\n",
       "<tr>\n",
       "  <th>Model:</th>               <td>Logit</td>      <th>  Df Residuals:      </th>  <td>   501</td>  \n",
       "</tr>\n",
       "<tr>\n",
       "  <th>Method:</th>               <td>MLE</td>       <th>  Df Model:          </th>  <td>     4</td>  \n",
       "</tr>\n",
       "<tr>\n",
       "  <th>Date:</th>          <td>Fri, 27 Jan 2017</td> <th>  Pseudo R-squ.:     </th>  <td>0.1027</td>  \n",
       "</tr>\n",
       "<tr>\n",
       "  <th>Time:</th>              <td>18:54:27</td>     <th>  Log-Likelihood:    </th> <td> -299.07</td> \n",
       "</tr>\n",
       "<tr>\n",
       "  <th>converged:</th>           <td>True</td>       <th>  LL-Null:           </th> <td> -333.31</td> \n",
       "</tr>\n",
       "<tr>\n",
       "  <th> </th>                      <td> </td>        <th>  LLR p-value:       </th> <td>4.737e-14</td>\n",
       "</tr>\n",
       "</table>\n",
       "<table class=\"simpletable\">\n",
       "<tr>\n",
       "    <td></td>       <th>coef</th>     <th>std err</th>      <th>z</th>      <th>P>|z|</th> <th>[95.0% Conf. Int.]</th> \n",
       "</tr>\n",
       "<tr>\n",
       "  <th>const</th> <td>   -3.2169</td> <td>    0.560</td> <td>   -5.744</td> <td> 0.000</td> <td>   -4.315    -2.119</td>\n",
       "</tr>\n",
       "<tr>\n",
       "  <th>x1</th>    <td>    0.9575</td> <td>    0.161</td> <td>    5.949</td> <td> 0.000</td> <td>    0.642     1.273</td>\n",
       "</tr>\n",
       "<tr>\n",
       "  <th>x2</th>    <td>    0.2266</td> <td>    0.037</td> <td>    6.132</td> <td> 0.000</td> <td>    0.154     0.299</td>\n",
       "</tr>\n",
       "<tr>\n",
       "  <th>x3</th>    <td>    0.0061</td> <td>    0.008</td> <td>    0.777</td> <td> 0.437</td> <td>   -0.009     0.022</td>\n",
       "</tr>\n",
       "<tr>\n",
       "  <th>x4</th>    <td>   -4.5615</td> <td>    2.489</td> <td>   -1.832</td> <td> 0.067</td> <td>   -9.441     0.318</td>\n",
       "</tr>\n",
       "</table>"
      ],
      "text/plain": [
       "<class 'statsmodels.iolib.summary.Summary'>\n",
       "\"\"\"\n",
       "                           Logit Regression Results                           \n",
       "==============================================================================\n",
       "Dep. Variable:                      y   No. Observations:                  506\n",
       "Model:                          Logit   Df Residuals:                      501\n",
       "Method:                           MLE   Df Model:                            4\n",
       "Date:                Fri, 27 Jan 2017   Pseudo R-squ.:                  0.1027\n",
       "Time:                        18:54:27   Log-Likelihood:                -299.07\n",
       "converged:                       True   LL-Null:                       -333.31\n",
       "                                        LLR p-value:                 4.737e-14\n",
       "==============================================================================\n",
       "                 coef    std err          z      P>|z|      [95.0% Conf. Int.]\n",
       "------------------------------------------------------------------------------\n",
       "const         -3.2169      0.560     -5.744      0.000        -4.315    -2.119\n",
       "x1             0.9575      0.161      5.949      0.000         0.642     1.273\n",
       "x2             0.2266      0.037      6.132      0.000         0.154     0.299\n",
       "x3             0.0061      0.008      0.777      0.437        -0.009     0.022\n",
       "x4            -4.5615      2.489     -1.832      0.067        -9.441     0.318\n",
       "==============================================================================\n",
       "\"\"\""
      ]
     },
     "execution_count": 22,
     "metadata": {},
     "output_type": "execute_result"
    }
   ],
   "source": [
    "summaryList[3]"
   ]
  },
  {
   "cell_type": "code",
   "execution_count": 27,
   "metadata": {
    "collapsed": true
   },
   "outputs": [
    {
     "name": "stdout",
     "output_type": "stream",
     "text": [
      "[-3.21690967  0.95752875  0.22662595  0.00612816 -4.56149964]\n",
      "[-3.21690967  0.95752875  0.22662595  0.00612816 -4.56149964]\n",
      "[-3.21690967  0.95752875  0.22662595  0.00612816 -4.56149964]\n",
      "[-3.21690967  0.95752875  0.22662595  0.00612816 -4.56149964]\n",
      "[-3.21690967  0.95752875  0.22662595  0.00612816 -4.56149964]\n",
      "[ -1.57674650e+00   5.45565765e-01   9.05689301e-02   4.09863013e-03\n",
      "  -4.57760407e+00]\n",
      "[ -2.43372418e+00   1.06366827e+00   9.06222939e-02   8.66593920e-03\n",
      "  -2.11586769e+01]\n",
      "[-2.52409841  0.96942489  0.08641661  0.00895465 -7.74578233]\n",
      "[ -2.47864903e+00   8.23124108e-01   1.19661970e-01   1.31429987e-02\n",
      "  -2.21278743e+01]\n",
      "[ -1.96849596e+00   8.39726856e-01   1.08382420e-01  -3.89530093e-03\n",
      "  -2.57462965e+01]\n",
      "[ -1.71670176e+00   6.57409070e-01   1.04211474e-01   2.69006525e-03\n",
      "  -1.77336375e+01]\n",
      "[ -2.65447787e+00   8.92519893e-01   1.14171770e-01   1.00854829e-02\n",
      "  -1.78627769e+01]\n",
      "[ -2.70357495e+00   7.78729075e-01   1.57010370e-01   5.36427412e-04\n",
      "  -2.12584322e+01]\n",
      "[-1.20644752  0.61525328  0.11593432 -0.00476498  0.00488395]\n",
      "[ -1.49778450e+00   6.90736409e-01   2.05024548e-01  -1.15087566e-02\n",
      "  -2.04928172e+01]\n",
      "[ -2.28952171e+00   8.04800236e-01   1.21163903e-01   5.28058061e-03\n",
      "  -4.49415464e+01]\n",
      "[ -2.33131088e+00   9.80299667e-01   1.11160062e-01   1.21263238e-02\n",
      "  -5.10049030e+01]\n",
      "[-1.69652016  0.77546653  0.10058213 -0.00512105 -1.09921914]\n",
      "[ -9.12615143e-01   4.22761119e-01   4.33914178e-02   9.62221264e-03\n",
      "  -2.54255925e+01]\n",
      "[-2.89547418  1.16609592  0.20037187 -0.0045951  -4.12902584]\n",
      "[ -3.65343047e+00   1.12196204e+00   1.38673964e-01   1.78165429e-02\n",
      "  -3.17804621e+01]\n",
      "[-2.150431    0.81295664  0.15361442  0.00484182 -2.19862164]\n",
      "[-2.09742249  0.84617024  0.14493706 -0.01486247 -4.31467099]\n",
      "[-2.62390033  0.84175232  0.13377506  0.00949202 -2.46238189]\n",
      "[ -3.50118440e+00   1.14939807e+00   1.84537705e-01   7.10904257e-03\n",
      "  -3.75505495e+01]\n",
      "[ -3.18147519e+00   9.06769347e-01   1.53554987e-01   1.52003948e-02\n",
      "  -3.51933293e+01]\n",
      "[ -3.55608479e+00   1.12340436e+00   2.15203111e-01   1.05408394e-02\n",
      "  -1.76899361e+01]\n",
      "[ -2.48864491e+00   8.92985660e-01   1.17496489e-01  -1.63597939e-03\n",
      "  -4.76472720e+00]\n",
      "[ -2.60744126e+00   1.00890686e+00   1.33711624e-01  -5.51339080e-03\n",
      "  -1.28714402e+01]\n",
      "[ -2.69146908e+00   1.18150584e+00   1.48420875e-01  -2.71411079e-03\n",
      "  -2.79741280e+01]\n",
      "[-0.97282631  0.58434351  0.09308563 -0.01342773 -0.19263589]\n",
      "[-1.94131141  0.80806398  0.06358113  0.01306539 -0.81977248]\n",
      "[ -3.68027412e+00   1.43303892e+00   1.78490619e-01   4.73479968e-03\n",
      "  -1.71205380e+01]\n",
      "[ -4.01421085   1.13794193   0.14525405   0.02714653 -16.65222235]\n",
      "[-3.21690967  0.95752875  0.22662595  0.00612816 -4.56149964]\n",
      "[-3.21690967  0.95752875  0.22662595  0.00612816 -4.56149964]\n",
      "[-3.21690967  0.95752875  0.22662595  0.00612816 -4.56149964]\n",
      "[ -1.57674650e+00   5.45565765e-01   9.05689301e-02   4.09863013e-03\n",
      "  -4.57760407e+00]\n",
      "[ -2.43372418e+00   1.06366827e+00   9.06222939e-02   8.66593920e-03\n",
      "  -2.11586769e+01]\n",
      "[-2.52409841  0.96942489  0.08641661  0.00895465 -7.74578233]\n",
      "[ -2.47864903e+00   8.23124108e-01   1.19661970e-01   1.31429987e-02\n",
      "  -2.21278743e+01]\n",
      "[ -1.96849596e+00   8.39726856e-01   1.08382420e-01  -3.89530093e-03\n",
      "  -2.57462965e+01]\n",
      "[ -1.71670176e+00   6.57409070e-01   1.04211474e-01   2.69006525e-03\n",
      "  -1.77336375e+01]\n",
      "[ -2.65447787e+00   8.92519893e-01   1.14171770e-01   1.00854829e-02\n",
      "  -1.78627769e+01]\n",
      "[ -2.70357495e+00   7.78729075e-01   1.57010370e-01   5.36427412e-04\n",
      "  -2.12584322e+01]\n",
      "[-1.20644752  0.61525328  0.11593432 -0.00476498  0.00488395]\n",
      "[ -1.49778450e+00   6.90736409e-01   2.05024548e-01  -1.15087566e-02\n",
      "  -2.04928172e+01]\n",
      "[ -2.28952171e+00   8.04800236e-01   1.21163903e-01   5.28058061e-03\n",
      "  -4.49415464e+01]\n",
      "[ -2.33131088e+00   9.80299667e-01   1.11160062e-01   1.21263238e-02\n",
      "  -5.10049030e+01]\n",
      "[-1.69652016  0.77546653  0.10058213 -0.00512105 -1.09921914]\n",
      "[ -9.12615143e-01   4.22761119e-01   4.33914178e-02   9.62221264e-03\n",
      "  -2.54255925e+01]\n",
      "[-2.89547418  1.16609592  0.20037187 -0.0045951  -4.12902584]\n",
      "[ -3.65343047e+00   1.12196204e+00   1.38673964e-01   1.78165429e-02\n",
      "  -3.17804621e+01]\n",
      "[-2.150431    0.81295664  0.15361442  0.00484182 -2.19862164]\n",
      "[-2.09742249  0.84617024  0.14493706 -0.01486247 -4.31467099]\n",
      "[-2.62390033  0.84175232  0.13377506  0.00949202 -2.46238189]\n",
      "[ -3.50118440e+00   1.14939807e+00   1.84537705e-01   7.10904257e-03\n",
      "  -3.75505495e+01]\n",
      "[ -3.18147519e+00   9.06769347e-01   1.53554987e-01   1.52003948e-02\n",
      "  -3.51933293e+01]\n",
      "[ -3.55608479e+00   1.12340436e+00   2.15203111e-01   1.05408394e-02\n",
      "  -1.76899361e+01]\n",
      "[ -2.48864491e+00   8.92985660e-01   1.17496489e-01  -1.63597939e-03\n",
      "  -4.76472720e+00]\n",
      "[ -2.60744126e+00   1.00890686e+00   1.33711624e-01  -5.51339080e-03\n",
      "  -1.28714402e+01]\n",
      "[ -2.69146908e+00   1.18150584e+00   1.48420875e-01  -2.71411079e-03\n",
      "  -2.79741280e+01]\n",
      "[-0.97282631  0.58434351  0.09308563 -0.01342773 -0.19263589]\n",
      "[-1.94131141  0.80806398  0.06358113  0.01306539 -0.81977248]\n",
      "[ -3.68027412e+00   1.43303892e+00   1.78490619e-01   4.73479968e-03\n",
      "  -1.71205380e+01]\n",
      "[ -4.01421085   1.13794193   0.14525405   0.02714653 -16.65222235]\n"
     ]
    }
   ],
   "source": [
    "for logit in fitResult:\n",
    "    print logit.params"
   ]
  },
  {
   "cell_type": "code",
   "execution_count": 28,
   "metadata": {
    "collapsed": false
   },
   "outputs": [
    {
     "data": {
      "text/plain": [
       "66"
      ]
     },
     "execution_count": 28,
     "metadata": {},
     "output_type": "execute_result"
    }
   ],
   "source": [
    "len(fitResult)"
   ]
  },
  {
   "cell_type": "code",
   "execution_count": 37,
   "metadata": {
    "collapsed": false
   },
   "outputs": [
    {
     "data": {
      "text/plain": [
       "32"
      ]
     },
     "execution_count": 37,
     "metadata": {},
     "output_type": "execute_result"
    }
   ],
   "source": [
    "len(logitList)"
   ]
  },
  {
   "cell_type": "code",
   "execution_count": 36,
   "metadata": {
    "collapsed": false
   },
   "outputs": [
    {
     "data": {
      "text/plain": [
       "32"
      ]
     },
     "execution_count": 36,
     "metadata": {},
     "output_type": "execute_result"
    }
   ],
   "source": [
    "len(teams)"
   ]
  },
  {
   "cell_type": "code",
   "execution_count": 38,
   "metadata": {
    "collapsed": false
   },
   "outputs": [
    {
     "data": {
      "text/plain": [
       "array([ 0.46167341,  0.50482503,  0.62507412,  0.6655749 ,  0.67358864,\n",
       "        0.74642147,  0.52399812,  0.69332632,  0.70097383,  0.53417891,\n",
       "        0.53461365,  0.65262446,  0.73734785,  0.42871473,  0.44904672,\n",
       "        0.48411366,  0.52790859,  0.41049909,  0.24307017,  0.42690756,\n",
       "        0.54921685,  0.49014812,  0.54192365,  0.65927166,  0.43193131,\n",
       "        0.55429316,  0.67078104,  0.40387402,  0.45771872,  0.47647235,\n",
       "        0.49663667,  0.48202028,  0.51534318,  0.63492121,  0.68427889,\n",
       "        0.74400082,  0.66406369,  0.72065311,  0.80844722,  0.27118562,\n",
       "        0.38023762,  0.45614974,  0.5059775 ,  0.52294673,  0.79170166,\n",
       "        0.67861559,  0.71385564,  0.71002438,  0.80666876,  0.73863809,\n",
       "        0.82460008,  0.48536506,  0.57361095,  0.48140898,  0.43100128,\n",
       "        0.42649049,  0.48903698,  0.52082513,  0.51660307,  0.56195941,\n",
       "        0.67719415,  0.46506518,  0.43382714,  0.40279621,  0.39103634,\n",
       "        0.23961295,  0.36090997,  0.50269089,  0.4286332 ,  0.44863884,\n",
       "        0.4912203 ,  0.47916149,  0.46684618,  0.55080146,  0.41228564,\n",
       "        0.43792644,  0.3668393 ,  0.41006692,  0.60739645,  0.47127732,\n",
       "        0.6462987 ,  0.69431072,  0.50606475,  0.49350032,  0.64626804,\n",
       "        0.61669013,  0.78173413,  0.79914987,  0.39759131,  0.39752429,\n",
       "        0.55280421,  0.64826307,  0.3984267 ,  0.46276328,  0.44809555,\n",
       "        0.46349963,  0.5854665 ,  0.39331022,  0.45635999,  0.59657183,\n",
       "        0.39045363,  0.53416946,  0.59806821,  0.47790294,  0.59934107,\n",
       "        0.4489532 ,  0.47432418,  0.34287681,  0.40649018,  0.49090599,\n",
       "        0.5544303 ,  0.37130365,  0.40021644,  0.48323712,  0.33816334,\n",
       "        0.25977576,  0.35669534,  0.42621124,  0.20325826,  0.20821755,\n",
       "        0.0781621 ,  0.44988552,  0.49328221,  0.54775337,  0.47350432,\n",
       "        0.68395051,  0.72208865,  0.46753368,  0.56727872,  0.51505331,\n",
       "        0.55364985,  0.66979943,  0.42861997,  0.55091306,  0.59564327,\n",
       "        0.35749297,  0.36406549,  0.71877131,  0.39444395,  0.50444543,\n",
       "        0.63538137,  0.46432075,  0.58634859,  0.69865683,  0.52769589,\n",
       "        0.59174449,  0.80221353,  0.46461442,  0.38362083,  0.41513687,\n",
       "        0.44636502,  0.67532064,  0.52532879,  0.53248823,  0.65076946,\n",
       "        0.43333821,  0.49925429,  0.58749781,  0.48965217,  0.23814154,\n",
       "        0.45986577,  0.57088968,  0.64459728,  0.42881202,  0.55112063,\n",
       "        0.38311934,  0.44628963,  0.44091371,  0.48041754,  0.60208992,\n",
       "        0.52041885,  0.46924298,  0.51516208,  0.39029563,  0.47679662,\n",
       "        0.62431749,  0.21620335,  0.27447548,  0.30447113,  0.10351892,\n",
       "        0.5249448 ,  0.65413497,  0.48536506,  0.60665774,  0.40723835,\n",
       "        0.54041394,  0.44988552,  0.54973109,  0.51308115,  0.45773869,\n",
       "        0.57990699,  0.62369244,  0.50270846,  0.54827241,  0.47828333,\n",
       "        0.28818852,  0.40242227,  0.48032391,  0.5234726 ,  0.70241454,\n",
       "        0.33885177,  0.45595283,  0.47619963,  0.43353131,  0.48764343,\n",
       "        0.51934852,  0.48673336,  0.60793688,  0.69820565,  0.38182963,\n",
       "        0.37058681,  0.43285585,  0.55517159,  0.39701634,  0.472891  ,\n",
       "        0.47953882,  0.39426064,  0.34630346,  0.33137854,  0.35457594,\n",
       "        0.49181295,  0.38395773,  0.48036956,  0.52183504,  0.42860838,\n",
       "        0.44631942,  0.44575036,  0.35673895,  0.39932923,  0.48586514,\n",
       "        0.53759091,  0.43191559,  0.55368269,  0.59461065,  0.61581639,\n",
       "        0.37871671,  0.33890784,  0.39420023,  0.29057395,  0.35740596,\n",
       "        0.40985274,  0.30591607,  0.33003964,  0.43917163,  0.04344456,\n",
       "        0.0018817 ,  0.41106804,  0.47350432,  0.52099272,  0.56291504,\n",
       "        0.48140898,  0.50780313,  0.43036979,  0.38137613,  0.3882669 ,\n",
       "        0.34119536,  0.51639561,  0.35059752,  0.46882499,  0.59072036,\n",
       "        0.40819191,  0.45048953,  0.45470719,  0.56572378,  0.63964609,\n",
       "        0.41565554,  0.47982816,  0.60129464,  0.28544696,  0.395131  ,\n",
       "        0.38839951,  0.45255954,  0.57472285,  0.43805983,  0.5603976 ,\n",
       "        0.47730461,  0.59891676,  0.70945756,  0.38426905,  0.50508417,\n",
       "        0.40271609,  0.46865232,  0.54565101,  0.65214602,  0.51948877,\n",
       "        0.48769427,  0.47146093,  0.51686945,  0.43169541,  0.3707264 ,\n",
       "        0.6758399 ,  0.36530097,  0.4613671 ,  0.41257698,  0.54485069,\n",
       "        0.58613967,  0.45196332,  0.52799918,  0.61328528,  0.49252046,\n",
       "        0.37345168,  0.43516582,  0.56412131,  0.41877142,  0.5556744 ,\n",
       "        0.33911584,  0.39366159,  0.21289919,  0.27098361,  0.28270037,\n",
       "        0.15439601,  0.15839594,  0.10924629,  0.05584072,  0.00095679,\n",
       "        0.45805855,  0.58026193,  0.62175323,  0.55954145,  0.48990921,\n",
       "        0.49705824,  0.45058809,  0.49620108,  0.41186659,  0.53386333,\n",
       "        0.23260052,  0.36654949,  0.48621252,  0.50120273,  0.62167224,\n",
       "        0.62599411,  0.48536506,  0.42262022,  0.39218199,  0.38076869,\n",
       "        0.38747963,  0.3774148 ,  0.45234995,  0.58559688,  0.47365468,\n",
       "        0.59539404,  0.6772544 ,  0.51307877,  0.48147708,  0.47340088,\n",
       "        0.5950736 ,  0.70615378,  0.4307787 ,  0.49631866,  0.49364079,\n",
       "        0.42750441,  0.51550766,  0.6241713 ,  0.46979401,  0.6756927 ,\n",
       "        0.7213597 ,  0.33735161,  0.43136377,  0.5304974 ,  0.37606181,\n",
       "        0.40580964,  0.42804828,  0.47433032,  0.50518141,  0.49383606,\n",
       "        0.61388658,  0.36269119,  0.38940766,  0.45383898,  0.57517368,\n",
       "        0.65341581,  0.41991784,  0.35050752,  0.46748556,  0.42658577,\n",
       "        0.45812913,  0.4818548 ,  0.48568334,  0.23640836,  0.25882451,\n",
       "        0.16618127,  0.033502  ,  0.37704056,  0.49742814,  0.69007851,\n",
       "        0.46561292,  0.51127138,  0.57571263,  0.42878118,  0.47986064,\n",
       "        0.60140525,  0.68283812,  0.52751217,  0.63571274,  0.68388523,\n",
       "        0.52051716,  0.69044576,  0.81404231,  0.41531288,  0.52616896,\n",
       "        0.63452213,  0.42482518,  0.50187102,  0.49982141,  0.69087584,\n",
       "        0.49690468,  0.73529662,  0.56918561,  0.45811704,  0.58031953,\n",
       "        0.56868533,  0.35335109,  0.47192315,  0.59375917,  0.47572405,\n",
       "        0.5191707 ,  0.52377686,  0.6113088 ,  0.49282507,  0.78835016,\n",
       "        0.91110377,  0.71319355,  0.41604123,  0.5000097 ,  0.78013718,\n",
       "        0.38345502,  0.42578103,  0.50303571,  0.60226642,  0.46236326,\n",
       "        0.49600924,  0.52918802,  0.59453873,  0.70615907,  0.54416663,\n",
       "        0.66150862,  0.63598016,  0.522737  ,  0.62543069,  0.72284555,\n",
       "        0.38076869,  0.41121614,  0.44205724,  0.5191848 ,  0.62786213,\n",
       "        0.48932296,  0.7024899 ,  0.42649049,  0.490981  ,  0.2291388 ,\n",
       "        0.32709813,  0.44287597,  0.48870005,  0.51504392,  0.63459585,\n",
       "        0.40807786,  0.54121893,  0.65860107,  0.50591093,  0.45514289,\n",
       "        0.5773046 ,  0.46226526,  0.40393754,  0.35601153,  0.31780765,\n",
       "        0.43235731,  0.32860714,  0.42080114,  0.48481277,  0.60607653,\n",
       "        0.50033613,  0.51527918,  0.437172  ,  0.46313676,  0.39440478,\n",
       "        0.51562335,  0.6350942 ,  0.44380084,  0.49069375,  0.63252235,\n",
       "        0.65700339,  0.46497138,  0.47149264,  0.39392671,  0.51447223,\n",
       "        0.63396556,  0.42455364,  0.54583744,  0.53238308,  0.37564021,\n",
       "        0.49577535,  0.55925322,  0.40955952,  0.5298901 ,  0.46458265,\n",
       "        0.57363336,  0.62263253,  0.39852072,  0.5151448 ,  0.54269218,\n",
       "        0.31237223,  0.33843102,  0.3843646 ,  0.19518233,  0.17564294,\n",
       "        0.24157692,  0.27572519,  0.02204765,  0.00212873])"
      ]
     },
     "execution_count": 38,
     "metadata": {},
     "output_type": "execute_result"
    }
   ],
   "source": [
    "sigmoids"
   ]
  },
  {
   "cell_type": "code",
   "execution_count": 40,
   "metadata": {
    "collapsed": true
   },
   "outputs": [],
   "source": [
    "histogram = pl.hist(sigmoids)"
   ]
  },
  {
   "cell_type": "code",
   "execution_count": 42,
   "metadata": {
    "collapsed": false
   },
   "outputs": [],
   "source": [
    "pl.show(histogram)"
   ]
  },
  {
   "cell_type": "code",
   "execution_count": null,
   "metadata": {
    "collapsed": true
   },
   "outputs": [],
   "source": []
  }
 ],
 "metadata": {
  "kernelspec": {
   "display_name": "Python 2",
   "language": "python",
   "name": "python2"
  },
  "language_info": {
   "codemirror_mode": {
    "name": "ipython",
    "version": 2
   },
   "file_extension": ".py",
   "mimetype": "text/x-python",
   "name": "python",
   "nbconvert_exporter": "python",
   "pygments_lexer": "ipython2",
   "version": "2.7.12"
  }
 },
 "nbformat": 4,
 "nbformat_minor": 0
}
