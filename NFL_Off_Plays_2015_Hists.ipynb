{
 "cells": [
  {
   "cell_type": "code",
   "execution_count": 2,
   "metadata": {
    "collapsed": false
   },
   "outputs": [],
   "source": [
    "import getpass\n",
    "import MySQLdb as mdb\n",
    "import matplotlib.pyplot as pl"
   ]
  },
  {
   "cell_type": "code",
   "execution_count": 3,
   "metadata": {
    "collapsed": false
   },
   "outputs": [
    {
     "name": "stdout",
     "output_type": "stream",
     "text": [
      "Enter the MySQL root password: ········\n"
     ]
    }
   ],
   "source": [
    "rootpass = getpass.getpass(\"Enter the MySQL root password: \")\n",
    "con = mdb.connect('localhost', 'root', rootpass, 'NFL_Offensive_Plays_2015')\n",
    "cur = con.cursor()"
   ]
  },
  {
   "cell_type": "code",
   "execution_count": 42,
   "metadata": {
    "collapsed": false
   },
   "outputs": [],
   "source": [
    "cur.execute(\"SELECT Down FROM `Baltimore Ravens` WHERE IsPass = 0\")\n",
    "downRunTemp = cur.fetchall()\n",
    "downRun = []\n",
    "for down in downRunTemp:\n",
    "    downRun.append(down[0])\n",
    "cur.execute(\"SELECT Down FROM `Baltimore Ravens` WHERE IsPass = 1\")\n",
    "downPassTemp = cur.fetchall()\n",
    "downPass = []\n",
    "for down in downPassTemp:\n",
    "    downPass.append(down[0])"
   ]
  },
  {
   "cell_type": "code",
   "execution_count": 43,
   "metadata": {
    "collapsed": false
   },
   "outputs": [],
   "source": [
    "downHist = pl.hist([downRun,downPass], range=(.5,4.5))\n",
    "legend = pl.legend(['Run','Pass'])\n",
    "pl.show(downHist)"
   ]
  },
  {
   "cell_type": "code",
   "execution_count": 52,
   "metadata": {
    "collapsed": false
   },
   "outputs": [],
   "source": [
    "cur.execute(\"SELECT `To Go` FROM `Baltimore Ravens` WHERE IsPass = 0 AND NOT Down = 1\")\n",
    "toGoRunTemp = cur.fetchall()\n",
    "toGoRun = []\n",
    "for num in toGoRunTemp:\n",
    "    toGoRun.append(num[0])\n",
    "cur.execute(\"SELECT `To Go` FROM `Baltimore Ravens` WHERE IsPass = 1 AND NOT Down = 1\")\n",
    "toGoPassTemp = cur.fetchall()\n",
    "toGoPass = []\n",
    "for num in toGoPassTemp:\n",
    "    toGoPass.append(num[0])"
   ]
  },
  {
   "cell_type": "code",
   "execution_count": 53,
   "metadata": {
    "collapsed": true
   },
   "outputs": [],
   "source": [
    "toGoHist = pl.hist([toGoRun,toGoPass],range=(0,20))\n",
    "pl.legend(['Run','Pass'])\n",
    "pl.show()"
   ]
  },
  {
   "cell_type": "code",
   "execution_count": 56,
   "metadata": {
    "collapsed": true
   },
   "outputs": [],
   "source": [
    "cur.execute(\"SELECT `Field Position` FROM `Baltimore Ravens` WHERE IsPass = 0\")\n",
    "fieldPosRunTemp = cur.fetchall()\n",
    "fieldPosRun = []\n",
    "for fieldPos in fieldPosRunTemp:\n",
    "    fieldPosRun.append(fieldPos[0])\n",
    "cur.execute(\"SELECT `Field Position` FROM `Baltimore Ravens` WHERE IsPass = 1\")\n",
    "fieldPosPassTemp = cur.fetchall()\n",
    "fieldPosPass = []\n",
    "for fieldPos in fieldPosPassTemp:\n",
    "    fieldPosPass.append(fieldPos[0])"
   ]
  },
  {
   "cell_type": "code",
   "execution_count": 57,
   "metadata": {
    "collapsed": true
   },
   "outputs": [],
   "source": [
    "fieldPosHist = pl.hist([fieldPosRun,fieldPosPass],range=(0,100))\n",
    "pl.legend(['Run','Pass'])\n",
    "pl.show()"
   ]
  },
  {
   "cell_type": "code",
   "execution_count": 78,
   "metadata": {
    "collapsed": false
   },
   "outputs": [],
   "source": [
    "cur.execute(\"SELECT `Score Differential`, `Time Remaining` FROM `Baltimore Ravens` WHERE IsPass = 0\")\n",
    "scoreDiffRunTemp = cur.fetchall()\n",
    "scoreDiffRun = []\n",
    "for row in scoreDiffRunTemp:\n",
    "    scoreDiffRun.append(float(row[0])/float(row[1]))\n",
    "cur.execute(\"SELECT `Score Differential`, `Time Remaining` FROM `Baltimore Ravens` WHERE IsPass = 1\")\n",
    "scoreDiffPassTemp = cur.fetchall()\n",
    "scoreDiffPass = []\n",
    "for row in scoreDiffPassTemp:\n",
    "    scoreDiffPass.append(float(row[0])/float(row[1]))"
   ]
  },
  {
   "cell_type": "code",
   "execution_count": 79,
   "metadata": {
    "collapsed": false
   },
   "outputs": [],
   "source": [
    "scoreDiffHist = pl.hist([scoreDiffRun,scoreDiffPass],bins=50,log=True, range=(-.2,.2))\n",
    "pl.legend(['Run','Pass'])\n",
    "pl.show()"
   ]
  },
  {
   "cell_type": "code",
   "execution_count": null,
   "metadata": {
    "collapsed": true
   },
   "outputs": [],
   "source": []
  }
 ],
 "metadata": {
  "kernelspec": {
   "display_name": "Python 2",
   "language": "python",
   "name": "python2"
  },
  "language_info": {
   "codemirror_mode": {
    "name": "ipython",
    "version": 2
   },
   "file_extension": ".py",
   "mimetype": "text/x-python",
   "name": "python",
   "nbconvert_exporter": "python",
   "pygments_lexer": "ipython2",
   "version": "2.7.12"
  }
 },
 "nbformat": 4,
 "nbformat_minor": 0
}
