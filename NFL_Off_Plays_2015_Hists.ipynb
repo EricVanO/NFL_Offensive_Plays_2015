{
 "cells": [
  {
   "cell_type": "code",
   "execution_count": null,
   "metadata": {
    "collapsed": true
   },
   "outputs": [],
   "source": [
    "\"\"\"\n",
    "In this notebook, I query the MySQL database resulting from the actions of \n",
    "import_game_pbp_data.py and create histograms to visualize the data and \n",
    "confirm that it looks similar to how I expect. In particular, I expect there\n",
    "to be more passes on plays: on later downs, with more yards to go to get a first\n",
    "down, starting near either goalline, and with negative values of\n",
    "(score differential)/(time remaining). The histograms that result from the \n",
    "following cells confirm these expectations, which were assumed when creating\n",
    "the logistic regression model employed in NFL_Off_Plays_Logit.ipynb. By \n",
    "default, these cells get data from the Baltimore Ravens' season, but querying\n",
    "other team's tables in the database give similar results.\n",
    "\"\"\""
   ]
  },
  {
   "cell_type": "code",
   "execution_count": 1,
   "metadata": {
    "collapsed": false
   },
   "outputs": [],
   "source": [
    "import getpass\n",
    "import MySQLdb as mdb\n",
    "import matplotlib.pyplot as pl\n",
    "%matplotlib inline"
   ]
  },
  {
   "cell_type": "code",
   "execution_count": 2,
   "metadata": {
    "collapsed": false
   },
   "outputs": [
    {
     "name": "stdout",
     "output_type": "stream",
     "text": [
      "Enter the MySQL root password: ········\n"
     ]
    }
   ],
   "source": [
    "rootpass = getpass.getpass(\"Enter the MySQL root password: \")\n",
    "con = mdb.connect('localhost', 'root', rootpass, 'NFL_Offensive_Plays_2015')\n",
    "cur = con.cursor()"
   ]
  },
  {
   "cell_type": "code",
   "execution_count": 3,
   "metadata": {
    "collapsed": false
   },
   "outputs": [],
   "source": [
    "cur.execute(\"SELECT Down FROM `Baltimore Ravens` WHERE IsPass = 0\")\n",
    "downRunTemp = cur.fetchall()\n",
    "downRun = []\n",
    "for down in downRunTemp:\n",
    "    downRun.append(down[0])\n",
    "cur.execute(\"SELECT Down FROM `Baltimore Ravens` WHERE IsPass = 1\")\n",
    "downPassTemp = cur.fetchall()\n",
    "downPass = []\n",
    "for down in downPassTemp:\n",
    "    downPass.append(down[0])"
   ]
  },
  {
   "cell_type": "markdown",
   "metadata": {},
   "source": [
    "The below plot confirms that teams are more likely to run on later downs--especially on third down. I imagine that many fourth downs are short-yardage situations, which is why it seems that the probability of a run is greater than on third down."
   ]
  },
  {
   "cell_type": "code",
   "execution_count": 4,
   "metadata": {
    "collapsed": false
   },
   "outputs": [
    {
     "data": {
      "image/png": "[encoded data removed]",
      "text/plain": [
       "<matplotlib.figure.Figure at 0x743f2e8>"
      ]
     },
     "metadata": {},
     "output_type": "display_data"
    }
   ],
   "source": [
    "downHist = pl.hist([downRun,downPass], range=(.5,4.5))\n",
    "legend = pl.legend(['Run','Pass'])\n",
    "pl.show(downHist)"
   ]
  },
  {
   "cell_type": "code",
   "execution_count": 22,
   "metadata": {
    "collapsed": false
   },
   "outputs": [],
   "source": [
    "cur.execute(\"SELECT `To Go` FROM `Baltimore Ravens` WHERE IsPass = 0 AND NOT Down = 1\")\n",
    "toGoRunTemp = cur.fetchall()\n",
    "toGoRun = []\n",
    "for num in toGoRunTemp:\n",
    "    toGoRun.append(num[0])\n",
    "cur.execute(\"SELECT `To Go` FROM `Baltimore Ravens` WHERE IsPass = 1 AND NOT Down = 1\")\n",
    "toGoPassTemp = cur.fetchall()\n",
    "toGoPass = []\n",
    "for num in toGoPassTemp:\n",
    "    toGoPass.append(num[0])"
   ]
  },
  {
   "cell_type": "markdown",
   "metadata": {},
   "source": [
    "The below plot confirms that when there are fewer yards to go to get a first down, teams are more likely to run."
   ]
  },
  {
   "cell_type": "code",
   "execution_count": 23,
   "metadata": {
    "collapsed": false
   },
   "outputs": [
    {
     "data": {
      "image/png": "[encoded data removed]",
      "text/plain": [
       "<matplotlib.figure.Figure at 0x8ccc278>"
      ]
     },
     "metadata": {},
     "output_type": "display_data"
    }
   ],
   "source": [
    "toGoHist = pl.hist([toGoRun,toGoPass],range=(0,20))\n",
    "pl.legend(['Run','Pass'])\n",
    "pl.show()"
   ]
  },
  {
   "cell_type": "code",
   "execution_count": 24,
   "metadata": {
    "collapsed": true
   },
   "outputs": [],
   "source": [
    "cur.execute(\"SELECT `Field Position` FROM `Baltimore Ravens` WHERE IsPass = 0\")\n",
    "fieldPosRunTemp = cur.fetchall()\n",
    "fieldPosRun = []\n",
    "for fieldPos in fieldPosRunTemp:\n",
    "    fieldPosRun.append(fieldPos[0])\n",
    "cur.execute(\"SELECT `Field Position` FROM `Baltimore Ravens` WHERE IsPass = 1\")\n",
    "fieldPosPassTemp = cur.fetchall()\n",
    "fieldPosPass = []\n",
    "for fieldPos in fieldPosPassTemp:\n",
    "    fieldPosPass.append(fieldPos[0])"
   ]
  },
  {
   "cell_type": "markdown",
   "metadata": {},
   "source": [
    "The below plot confirms that teams are more likely to run near either goal line than they are in other situations. "
   ]
  },
  {
   "cell_type": "code",
   "execution_count": 25,
   "metadata": {
    "collapsed": false
   },
   "outputs": [
    {
     "data": {
      "image/png": "[encoded data removed]",
      "text/plain": [
       "<matplotlib.figure.Figure at 0x8afb0b8>"
      ]
     },
     "metadata": {},
     "output_type": "display_data"
    }
   ],
   "source": [
    "fieldPosHist = pl.hist([fieldPosRun,fieldPosPass],range=(0,100))\n",
    "pl.legend(['Run','Pass'])\n",
    "pl.show()"
   ]
  },
  {
   "cell_type": "code",
   "execution_count": 26,
   "metadata": {
    "collapsed": false
   },
   "outputs": [],
   "source": [
    "cur.execute(\"SELECT `Score Differential`, `Time Remaining` FROM `Baltimore Ravens` WHERE IsPass = 0\")\n",
    "scoreDiffRunTemp = cur.fetchall()\n",
    "scoreDiffRun = []\n",
    "for row in scoreDiffRunTemp:\n",
    "    scoreDiffRun.append(float(row[0])/float(row[1]))\n",
    "cur.execute(\"SELECT `Score Differential`, `Time Remaining` FROM `Baltimore Ravens` WHERE IsPass = 1\")\n",
    "scoreDiffPassTemp = cur.fetchall()\n",
    "scoreDiffPass = []\n",
    "for row in scoreDiffPassTemp:\n",
    "    scoreDiffPass.append(float(row[0])/float(row[1]))"
   ]
  },
  {
   "cell_type": "markdown",
   "metadata": {},
   "source": [
    "The below plot confirms that teams are more likely to pass when they are behind late in the game (i.e. (score differential)/(time remaining) is less than -.05), and run if they are ahead late in the game (i.e. (score differential)/(time remaining) is greater than .05)."
   ]
  },
  {
   "cell_type": "code",
   "execution_count": 27,
   "metadata": {
    "collapsed": false
   },
   "outputs": [
    {
     "data": {
      "image/png": "[encoded data removed]",
      "text/plain": [
       "<matplotlib.figure.Figure at 0x9e65f28>"
      ]
     },
     "metadata": {},
     "output_type": "display_data"
    }
   ],
   "source": [
    "scoreDiffHist = pl.hist([scoreDiffRun,scoreDiffPass],bins=50,log=True, range=(-.2,.2))\n",
    "pl.legend(['Run','Pass'])\n",
    "pl.show()"
   ]
  }
 ],
 "metadata": {
  "kernelspec": {
   "display_name": "Python 2",
   "language": "python",
   "name": "python2"
  },
  "language_info": {
   "codemirror_mode": {
    "name": "ipython",
    "version": 2
   },
   "file_extension": ".py",
   "mimetype": "text/x-python",
   "name": "python",
   "nbconvert_exporter": "python",
   "pygments_lexer": "ipython2",
   "version": "2.7.12"
  }
 },
 "nbformat": 4,
 "nbformat_minor": 0
}
